{
 "cells": [
  {
   "cell_type": "markdown",
   "id": "ff4ee6ff-ceee-4530-9131-a1d219571760",
   "metadata": {},
   "source": [
    "# Extract species labels from raw labels\n",
    "\n",
    "This is an explanation of the  \n",
    "**extract_labels.py**    \n",
    "file.  \n",
    "\n",
    "using the regex defined in the config file, we\n",
    "1. extract the proper label for each row\n",
    "2. create parquet and csv files of the unique labels\n",
    "3. encode the labels (convert the string to an integer) in the main data\n",
    "\n",
    "Then we will save the output as parquet files."
   ]
  },
  {
   "cell_type": "markdown",
   "id": "c7c0ed94-a847-47f3-9b09-ff6322b53022",
   "metadata": {},
   "source": [
    "## Step 0: import required libraries"
   ]
  },
  {
   "cell_type": "code",
   "execution_count": 1,
   "id": "e27df203-f0c2-4538-91f3-45b31f21367d",
   "metadata": {},
   "outputs": [],
   "source": [
    "import sys\n",
    "sys.path.append('..') # this is to allow the script to read from the parent folder\n",
    "\n",
    "from scripts.global_funcs import load_data_config\n",
    "from dask.distributed import Client\n",
    "from dask_cuda import LocalCUDACluster\n",
    "import dask_cudf"
   ]
  },
  {
   "cell_type": "markdown",
   "id": "c67fa09c-9f2e-4cf9-b86f-56f80beb80bd",
   "metadata": {},
   "source": [
    "## Step 1: start the cluster"
   ]
  },
  {
   "cell_type": "code",
   "execution_count": 2,
   "id": "ea4b3f2f-91d9-4f68-83d9-916f0f42cd03",
   "metadata": {},
   "outputs": [
    {
     "name": "stderr",
     "output_type": "stream",
     "text": [
      "2022-05-23 07:13:58,889 - distributed.diskutils - INFO - Found stale lock file and directory '/home/jcosme/projs/COSME/notebook_walkthroughs/dask-worker-space/worker-hjp4x1q1', purging\n",
      "2022-05-23 07:13:58,890 - distributed.preloading - INFO - Import preload module: dask_cuda.initialize\n"
     ]
    },
    {
     "data": {
      "text/html": [
       "<div>\n",
       "    <div style=\"width: 24px; height: 24px; background-color: #e1e1e1; border: 3px solid #9D9D9D; border-radius: 5px; position: absolute;\"> </div>\n",
       "    <div style=\"margin-left: 48px;\">\n",
       "        <h3 style=\"margin-bottom: 0px;\">Client</h3>\n",
       "        <p style=\"color: #9D9D9D; margin-bottom: 0px;\">Client-d33aee6b-da91-11ec-a851-84a938e2553a</p>\n",
       "        <table style=\"width: 100%; text-align: left;\">\n",
       "\n",
       "        <tr>\n",
       "        \n",
       "            <td style=\"text-align: left;\"><strong>Connection method:</strong> Cluster object</td>\n",
       "            <td style=\"text-align: left;\"><strong>Cluster type:</strong> dask_cuda.LocalCUDACluster</td>\n",
       "        \n",
       "        </tr>\n",
       "\n",
       "        \n",
       "            <tr>\n",
       "                <td style=\"text-align: left;\">\n",
       "                    <strong>Dashboard: </strong> <a href=\"http://127.0.0.1:8787/status\" target=\"_blank\">http://127.0.0.1:8787/status</a>\n",
       "                </td>\n",
       "                <td style=\"text-align: left;\"></td>\n",
       "            </tr>\n",
       "        \n",
       "\n",
       "        </table>\n",
       "\n",
       "        \n",
       "            <details>\n",
       "            <summary style=\"margin-bottom: 20px;\"><h3 style=\"display: inline;\">Cluster Info</h3></summary>\n",
       "            <div class=\"jp-RenderedHTMLCommon jp-RenderedHTML jp-mod-trusted jp-OutputArea-output\">\n",
       "    <div style=\"width: 24px; height: 24px; background-color: #e1e1e1; border: 3px solid #9D9D9D; border-radius: 5px; position: absolute;\">\n",
       "    </div>\n",
       "    <div style=\"margin-left: 48px;\">\n",
       "        <h3 style=\"margin-bottom: 0px; margin-top: 0px;\">LocalCUDACluster</h3>\n",
       "        <p style=\"color: #9D9D9D; margin-bottom: 0px;\">99b494de</p>\n",
       "        <table style=\"width: 100%; text-align: left;\">\n",
       "            <tr>\n",
       "                <td style=\"text-align: left;\">\n",
       "                    <strong>Dashboard:</strong> <a href=\"http://127.0.0.1:8787/status\" target=\"_blank\">http://127.0.0.1:8787/status</a>\n",
       "                </td>\n",
       "                <td style=\"text-align: left;\">\n",
       "                    <strong>Workers:</strong> 1\n",
       "                </td>\n",
       "            </tr>\n",
       "            <tr>\n",
       "                <td style=\"text-align: left;\">\n",
       "                    <strong>Total threads:</strong> 1\n",
       "                </td>\n",
       "                <td style=\"text-align: left;\">\n",
       "                    <strong>Total memory:</strong> 31.21 GiB\n",
       "                </td>\n",
       "            </tr>\n",
       "            \n",
       "            <tr>\n",
       "    <td style=\"text-align: left;\"><strong>Status:</strong> running</td>\n",
       "    <td style=\"text-align: left;\"><strong>Using processes:</strong> True</td>\n",
       "</tr>\n",
       "\n",
       "            \n",
       "        </table>\n",
       "\n",
       "        <details>\n",
       "            <summary style=\"margin-bottom: 20px;\">\n",
       "                <h3 style=\"display: inline;\">Scheduler Info</h3>\n",
       "            </summary>\n",
       "\n",
       "            <div style=\"\">\n",
       "    <div>\n",
       "        <div style=\"width: 24px; height: 24px; background-color: #FFF7E5; border: 3px solid #FF6132; border-radius: 5px; position: absolute;\"> </div>\n",
       "        <div style=\"margin-left: 48px;\">\n",
       "            <h3 style=\"margin-bottom: 0px;\">Scheduler</h3>\n",
       "            <p style=\"color: #9D9D9D; margin-bottom: 0px;\">Scheduler-b5036234-0c0b-49aa-8373-486c5c28b0d9</p>\n",
       "            <table style=\"width: 100%; text-align: left;\">\n",
       "                <tr>\n",
       "                    <td style=\"text-align: left;\">\n",
       "                        <strong>Comm:</strong> tcp://127.0.0.1:36043\n",
       "                    </td>\n",
       "                    <td style=\"text-align: left;\">\n",
       "                        <strong>Workers:</strong> 1\n",
       "                    </td>\n",
       "                </tr>\n",
       "                <tr>\n",
       "                    <td style=\"text-align: left;\">\n",
       "                        <strong>Dashboard:</strong> <a href=\"http://127.0.0.1:8787/status\" target=\"_blank\">http://127.0.0.1:8787/status</a>\n",
       "                    </td>\n",
       "                    <td style=\"text-align: left;\">\n",
       "                        <strong>Total threads:</strong> 1\n",
       "                    </td>\n",
       "                </tr>\n",
       "                <tr>\n",
       "                    <td style=\"text-align: left;\">\n",
       "                        <strong>Started:</strong> Just now\n",
       "                    </td>\n",
       "                    <td style=\"text-align: left;\">\n",
       "                        <strong>Total memory:</strong> 31.21 GiB\n",
       "                    </td>\n",
       "                </tr>\n",
       "            </table>\n",
       "        </div>\n",
       "    </div>\n",
       "\n",
       "    <details style=\"margin-left: 48px;\">\n",
       "        <summary style=\"margin-bottom: 20px;\">\n",
       "            <h3 style=\"display: inline;\">Workers</h3>\n",
       "        </summary>\n",
       "\n",
       "        \n",
       "        <div style=\"margin-bottom: 20px;\">\n",
       "            <div style=\"width: 24px; height: 24px; background-color: #DBF5FF; border: 3px solid #4CC9FF; border-radius: 5px; position: absolute;\"> </div>\n",
       "            <div style=\"margin-left: 48px;\">\n",
       "            <details>\n",
       "                <summary>\n",
       "                    <h4 style=\"margin-bottom: 0px; display: inline;\">Worker: 0</h4>\n",
       "                </summary>\n",
       "                <table style=\"width: 100%; text-align: left;\">\n",
       "                    <tr>\n",
       "                        <td style=\"text-align: left;\">\n",
       "                            <strong>Comm: </strong> tcp://127.0.0.1:35389\n",
       "                        </td>\n",
       "                        <td style=\"text-align: left;\">\n",
       "                            <strong>Total threads: </strong> 1\n",
       "                        </td>\n",
       "                    </tr>\n",
       "                    <tr>\n",
       "                        <td style=\"text-align: left;\">\n",
       "                            <strong>Dashboard: </strong> <a href=\"http://127.0.0.1:37871/status\" target=\"_blank\">http://127.0.0.1:37871/status</a>\n",
       "                        </td>\n",
       "                        <td style=\"text-align: left;\">\n",
       "                            <strong>Memory: </strong> 31.21 GiB\n",
       "                        </td>\n",
       "                    </tr>\n",
       "                    <tr>\n",
       "                        <td style=\"text-align: left;\">\n",
       "                            <strong>Nanny: </strong> tcp://127.0.0.1:36387\n",
       "                        </td>\n",
       "                        <td style=\"text-align: left;\"></td>\n",
       "                    </tr>\n",
       "                    <tr>\n",
       "                        <td colspan=\"2\" style=\"text-align: left;\">\n",
       "                            <strong>Local directory: </strong> /home/jcosme/projs/COSME/notebook_walkthroughs/dask-worker-space/worker-9n4j4zc9\n",
       "                        </td>\n",
       "                    </tr>\n",
       "\n",
       "                    \n",
       "                    <tr>\n",
       "                        <td style=\"text-align: left;\">\n",
       "                            <strong>GPU: </strong>NVIDIA GeForce RTX 3080 Laptop GPU\n",
       "                        </td>\n",
       "                        <td style=\"text-align: left;\">\n",
       "                            <strong>GPU memory: </strong> 16.00 GiB\n",
       "                        </td>\n",
       "                    </tr>\n",
       "                    \n",
       "\n",
       "                    \n",
       "\n",
       "                </table>\n",
       "            </details>\n",
       "            </div>\n",
       "        </div>\n",
       "        \n",
       "\n",
       "    </details>\n",
       "</div>\n",
       "\n",
       "        </details>\n",
       "    </div>\n",
       "</div>\n",
       "            </details>\n",
       "        \n",
       "\n",
       "    </div>\n",
       "</div>"
      ],
      "text/plain": [
       "<Client: 'tcp://127.0.0.1:36043' processes=1 threads=1, memory=31.21 GiB>"
      ]
     },
     "execution_count": 2,
     "metadata": {},
     "output_type": "execute_result"
    }
   ],
   "source": [
    "cluster = LocalCUDACluster()\n",
    "client = Client(cluster)\n",
    "client"
   ]
  },
  {
   "cell_type": "markdown",
   "id": "3a8cca65-5240-46c6-a735-6b4f720b0c7b",
   "metadata": {},
   "source": [
    "### optional: \n",
    "click the link above to open up the Dask Dashboard, which will allow you to see the progress of your job.  \n",
    "**note:** this will only work on a jupyter notebook"
   ]
  },
  {
   "cell_type": "markdown",
   "id": "b395c4d9-4d5f-4993-9387-d98e3f97e920",
   "metadata": {},
   "source": [
    "## Step 2: load config file data"
   ]
  },
  {
   "cell_type": "code",
   "execution_count": 3,
   "id": "6cfafaeb-72cf-41e0-94c4-791f96705efe",
   "metadata": {},
   "outputs": [],
   "source": [
    "configs = load_data_config()"
   ]
  },
  {
   "cell_type": "code",
   "execution_count": 4,
   "id": "737c28ad-d3a7-4172-8d3c-db24119588ee",
   "metadata": {},
   "outputs": [
    {
     "name": "stdout",
     "output_type": "stream",
     "text": [
      "clean_fasta_file: /media/jcosme/Data/MarRef_parquet\n",
      "output_dir: /media/jcosme/Data\n",
      "project_name: full_mer_1\n",
      "base_col_names: ['seq', 'label']\n",
      "label_col_name: label\n",
      "input_col_name: seq\n",
      "label_regex: (?:[^a-zA-Z0-9]+)([a-zA-Z]+[0-9]+)(?:[^a-zA-Z0-9]+)\n",
      "k_mer: 1\n",
      "possible_gene_values: ['A', 'C', 'G', 'T']\n",
      "data_splits: {'train': 0.9, 'val': 0.05, 'test': 0.05}\n",
      "random_seed: 42\n",
      "fasta_sep: >\n",
      "unq_labs_dir: /media/jcosme/Data/full_mer_1/data/unq_labels\n",
      "unq_labs_dir_csv: /media/jcosme/Data/full_mer_1/data/unq_labels.csv\n",
      "data_dir: /media/jcosme/Data/full_mer_1/data/full_mer_1\n"
     ]
    }
   ],
   "source": [
    "# these are the variables we will be using\n",
    "for key, val in configs.items():\n",
    "    print(f\"{key}: {val}\")"
   ]
  },
  {
   "cell_type": "code",
   "execution_count": 5,
   "id": "58858103-d4a3-4862-bd56-8a609d70dffe",
   "metadata": {},
   "outputs": [],
   "source": [
    "# lets put the variables we need into python variables\n",
    "clean_fasta_filepath = configs['clean_fasta_file']\n",
    "output_dir = configs['output_dir']\n",
    "project_name = configs['project_name']\n",
    "unq_labs_dir = configs['unq_labs_dir']\n",
    "unq_labs_dir_csv = configs['unq_labs_dir_csv']\n",
    "data_dir = configs['data_dir']\n",
    "label_col_name = configs['label_col_name']\n",
    "label_regex = configs['label_regex']"
   ]
  },
  {
   "cell_type": "markdown",
   "id": "d2333ef3-26d3-44c9-b9ed-d8888e2e8adf",
   "metadata": {},
   "source": [
    "## Step 3: define label extraction function"
   ]
  },
  {
   "cell_type": "code",
   "execution_count": 6,
   "id": "ff2ee946-64f7-448b-9402-cf64924f66b4",
   "metadata": {},
   "outputs": [],
   "source": [
    "# this function will be applied to the data\n",
    "def extract_labels(df):\n",
    "    df[label_col_name] = df[label_col_name].str.extract(label_regex).loc[:, 0]\n",
    "    return df"
   ]
  },
  {
   "cell_type": "markdown",
   "id": "9599a1e1-358a-4f98-a35d-75214885d0ed",
   "metadata": {},
   "source": [
    "## Step 4: data transformations"
   ]
  },
  {
   "cell_type": "code",
   "execution_count": 7,
   "id": "29aa364e-644c-4222-b89b-a33f4046efdb",
   "metadata": {},
   "outputs": [
    {
     "name": "stderr",
     "output_type": "stream",
     "text": [
      "/home/jcosme/miniconda3/envs/ds/lib/python3.9/site-packages/cudf/core/frame.py:384: UserWarning: The deep parameter is ignored and is only included for pandas compatibility.\n",
      "  warnings.warn(\n",
      "/home/jcosme/miniconda3/envs/ds/lib/python3.9/site-packages/cudf/core/frame.py:384: UserWarning: The deep parameter is ignored and is only included for pandas compatibility.\n",
      "  warnings.warn(\n"
     ]
    }
   ],
   "source": [
    "# first we read the parquet file\n",
    "df = dask_cudf.read_parquet(clean_fasta_filepath).repartition(partition_size=\"100M\")"
   ]
  },
  {
   "cell_type": "code",
   "execution_count": 8,
   "id": "c8d19a37-68b7-47bf-9549-41c1df7deddc",
   "metadata": {},
   "outputs": [
    {
     "data": {
      "text/html": [
       "<div>\n",
       "<style scoped>\n",
       "    .dataframe tbody tr th:only-of-type {\n",
       "        vertical-align: middle;\n",
       "    }\n",
       "\n",
       "    .dataframe tbody tr th {\n",
       "        vertical-align: top;\n",
       "    }\n",
       "\n",
       "    .dataframe thead th {\n",
       "        text-align: right;\n",
       "    }\n",
       "</style>\n",
       "<table border=\"1\" class=\"dataframe\">\n",
       "  <thead>\n",
       "    <tr style=\"text-align: right;\">\n",
       "      <th></th>\n",
       "      <th>seq</th>\n",
       "      <th>label</th>\n",
       "    </tr>\n",
       "  </thead>\n",
       "  <tbody>\n",
       "    <tr>\n",
       "      <th>0</th>\n",
       "      <td>TTCCACAAAGTTACACGGGAAAAGAGCCTGCAACAATGCGTGGAGT...</td>\n",
       "      <td>label|286|MMP00000031-10000/1</td>\n",
       "    </tr>\n",
       "    <tr>\n",
       "      <th>1</th>\n",
       "      <td>TAAATTAAGAATTGAAATGATTGAAAATGCTGGAAAATTAAAAATT...</td>\n",
       "      <td>label|286|MMP00000031-9998/1</td>\n",
       "    </tr>\n",
       "    <tr>\n",
       "      <th>2</th>\n",
       "      <td>ATATTTTTATTTTTTTGAAAAAAGGTTTAGTTAATTATAAAGTTTA...</td>\n",
       "      <td>label|286|MMP00000031-9996/1</td>\n",
       "    </tr>\n",
       "    <tr>\n",
       "      <th>3</th>\n",
       "      <td>TTATGGATGACGATATCAGACTTCTTAGAACGATCGGATCACTTCA...</td>\n",
       "      <td>label|286|MMP00000031-9994/1</td>\n",
       "    </tr>\n",
       "    <tr>\n",
       "      <th>4</th>\n",
       "      <td>GAATTACGGGGTTATTTAAATAAATTGCAAGAAGTTCCCATGCTAA...</td>\n",
       "      <td>label|286|MMP00000031-9992/1</td>\n",
       "    </tr>\n",
       "  </tbody>\n",
       "</table>\n",
       "</div>"
      ],
      "text/plain": [
       "                                                 seq  \\\n",
       "0  TTCCACAAAGTTACACGGGAAAAGAGCCTGCAACAATGCGTGGAGT...   \n",
       "1  TAAATTAAGAATTGAAATGATTGAAAATGCTGGAAAATTAAAAATT...   \n",
       "2  ATATTTTTATTTTTTTGAAAAAAGGTTTAGTTAATTATAAAGTTTA...   \n",
       "3  TTATGGATGACGATATCAGACTTCTTAGAACGATCGGATCACTTCA...   \n",
       "4  GAATTACGGGGTTATTTAAATAAATTGCAAGAAGTTCCCATGCTAA...   \n",
       "\n",
       "                           label  \n",
       "0  label|286|MMP00000031-10000/1  \n",
       "1   label|286|MMP00000031-9998/1  \n",
       "2   label|286|MMP00000031-9996/1  \n",
       "3   label|286|MMP00000031-9994/1  \n",
       "4   label|286|MMP00000031-9992/1  "
      ]
     },
     "execution_count": 8,
     "metadata": {},
     "output_type": "execute_result"
    }
   ],
   "source": [
    "# here is a data sample\n",
    "df.head()"
   ]
  },
  {
   "cell_type": "code",
   "execution_count": 9,
   "id": "14115b0b-801a-493f-964c-1bf1d3b70b0a",
   "metadata": {},
   "outputs": [],
   "source": [
    "# next, we apply the function defined above to the data\n",
    "df = df.map_partitions(extract_labels)"
   ]
  },
  {
   "cell_type": "code",
   "execution_count": 10,
   "id": "d43fe82f-78d1-40c8-8301-25914100afcc",
   "metadata": {},
   "outputs": [
    {
     "data": {
      "text/html": [
       "<div>\n",
       "<style scoped>\n",
       "    .dataframe tbody tr th:only-of-type {\n",
       "        vertical-align: middle;\n",
       "    }\n",
       "\n",
       "    .dataframe tbody tr th {\n",
       "        vertical-align: top;\n",
       "    }\n",
       "\n",
       "    .dataframe thead th {\n",
       "        text-align: right;\n",
       "    }\n",
       "</style>\n",
       "<table border=\"1\" class=\"dataframe\">\n",
       "  <thead>\n",
       "    <tr style=\"text-align: right;\">\n",
       "      <th></th>\n",
       "      <th>seq</th>\n",
       "      <th>label</th>\n",
       "    </tr>\n",
       "  </thead>\n",
       "  <tbody>\n",
       "    <tr>\n",
       "      <th>0</th>\n",
       "      <td>TTCCACAAAGTTACACGGGAAAAGAGCCTGCAACAATGCGTGGAGT...</td>\n",
       "      <td>MMP00000031</td>\n",
       "    </tr>\n",
       "    <tr>\n",
       "      <th>1</th>\n",
       "      <td>TAAATTAAGAATTGAAATGATTGAAAATGCTGGAAAATTAAAAATT...</td>\n",
       "      <td>MMP00000031</td>\n",
       "    </tr>\n",
       "    <tr>\n",
       "      <th>2</th>\n",
       "      <td>ATATTTTTATTTTTTTGAAAAAAGGTTTAGTTAATTATAAAGTTTA...</td>\n",
       "      <td>MMP00000031</td>\n",
       "    </tr>\n",
       "    <tr>\n",
       "      <th>3</th>\n",
       "      <td>TTATGGATGACGATATCAGACTTCTTAGAACGATCGGATCACTTCA...</td>\n",
       "      <td>MMP00000031</td>\n",
       "    </tr>\n",
       "    <tr>\n",
       "      <th>4</th>\n",
       "      <td>GAATTACGGGGTTATTTAAATAAATTGCAAGAAGTTCCCATGCTAA...</td>\n",
       "      <td>MMP00000031</td>\n",
       "    </tr>\n",
       "  </tbody>\n",
       "</table>\n",
       "</div>"
      ],
      "text/plain": [
       "                                                 seq        label\n",
       "0  TTCCACAAAGTTACACGGGAAAAGAGCCTGCAACAATGCGTGGAGT...  MMP00000031\n",
       "1  TAAATTAAGAATTGAAATGATTGAAAATGCTGGAAAATTAAAAATT...  MMP00000031\n",
       "2  ATATTTTTATTTTTTTGAAAAAAGGTTTAGTTAATTATAAAGTTTA...  MMP00000031\n",
       "3  TTATGGATGACGATATCAGACTTCTTAGAACGATCGGATCACTTCA...  MMP00000031\n",
       "4  GAATTACGGGGTTATTTAAATAAATTGCAAGAAGTTCCCATGCTAA...  MMP00000031"
      ]
     },
     "execution_count": 10,
     "metadata": {},
     "output_type": "execute_result"
    }
   ],
   "source": [
    "# here is a data sample\n",
    "df.head()"
   ]
  },
  {
   "cell_type": "code",
   "execution_count": 11,
   "id": "fad89e7f-bcac-4e9f-9c5e-242f1ed4423e",
   "metadata": {},
   "outputs": [],
   "source": [
    "# now we extract the unique labels\n",
    "unq_labs_df = df.sort_values(label_col_name)[label_col_name].unique().to_frame()"
   ]
  },
  {
   "cell_type": "code",
   "execution_count": 12,
   "id": "f95ea5e5-b064-4a88-bcaf-11babab9895c",
   "metadata": {},
   "outputs": [
    {
     "data": {
      "text/html": [
       "<div>\n",
       "<style scoped>\n",
       "    .dataframe tbody tr th:only-of-type {\n",
       "        vertical-align: middle;\n",
       "    }\n",
       "\n",
       "    .dataframe tbody tr th {\n",
       "        vertical-align: top;\n",
       "    }\n",
       "\n",
       "    .dataframe thead th {\n",
       "        text-align: right;\n",
       "    }\n",
       "</style>\n",
       "<table border=\"1\" class=\"dataframe\">\n",
       "  <thead>\n",
       "    <tr style=\"text-align: right;\">\n",
       "      <th></th>\n",
       "      <th>label</th>\n",
       "    </tr>\n",
       "  </thead>\n",
       "  <tbody>\n",
       "    <tr>\n",
       "      <th>0</th>\n",
       "      <td>MMP00000031</td>\n",
       "    </tr>\n",
       "    <tr>\n",
       "      <th>1</th>\n",
       "      <td>MMP00000346</td>\n",
       "    </tr>\n",
       "    <tr>\n",
       "      <th>2</th>\n",
       "      <td>MMP00001868</td>\n",
       "    </tr>\n",
       "    <tr>\n",
       "      <th>3</th>\n",
       "      <td>MMP00002580</td>\n",
       "    </tr>\n",
       "    <tr>\n",
       "      <th>4</th>\n",
       "      <td>MMP00002596</td>\n",
       "    </tr>\n",
       "  </tbody>\n",
       "</table>\n",
       "</div>"
      ],
      "text/plain": [
       "         label\n",
       "0  MMP00000031\n",
       "1  MMP00000346\n",
       "2  MMP00001868\n",
       "3  MMP00002580\n",
       "4  MMP00002596"
      ]
     },
     "execution_count": 12,
     "metadata": {},
     "output_type": "execute_result"
    }
   ],
   "source": [
    "# here is a sample of the unique labels\n",
    "unq_labs_df.head()"
   ]
  },
  {
   "cell_type": "code",
   "execution_count": 13,
   "id": "2c6c743e-7c26-42cf-9ac8-e49d1ebdd350",
   "metadata": {},
   "outputs": [
    {
     "name": "stdout",
     "output_type": "stream",
     "text": [
      "CPU times: user 1.35 s, sys: 292 ms, total: 1.64 s\n",
      "Wall time: 12.4 s\n"
     ]
    }
   ],
   "source": [
    "%%time\n",
    "# this might take some time\n",
    "# we save the unique labels as a parquet file...\n",
    "_ = unq_labs_df.to_parquet(unq_labs_dir)\n",
    "# ...and as a .csv file.\n",
    "_ = unq_labs_df.to_csv(unq_labs_dir_csv, index=False, single_file=True)"
   ]
  },
  {
   "cell_type": "code",
   "execution_count": 14,
   "id": "22e55122-9896-45c5-b06e-eb4723e14699",
   "metadata": {},
   "outputs": [],
   "source": [
    "# next, we encode the labels\n",
    "df = df.categorize(columns=[label_col_name])\n",
    "df[label_col_name] = df[label_col_name].cat.codes"
   ]
  },
  {
   "cell_type": "code",
   "execution_count": 15,
   "id": "e3afdc03-5a00-4b39-a2d7-00e4d9e2af4c",
   "metadata": {},
   "outputs": [
    {
     "data": {
      "text/html": [
       "<div>\n",
       "<style scoped>\n",
       "    .dataframe tbody tr th:only-of-type {\n",
       "        vertical-align: middle;\n",
       "    }\n",
       "\n",
       "    .dataframe tbody tr th {\n",
       "        vertical-align: top;\n",
       "    }\n",
       "\n",
       "    .dataframe thead th {\n",
       "        text-align: right;\n",
       "    }\n",
       "</style>\n",
       "<table border=\"1\" class=\"dataframe\">\n",
       "  <thead>\n",
       "    <tr style=\"text-align: right;\">\n",
       "      <th></th>\n",
       "      <th>seq</th>\n",
       "      <th>label</th>\n",
       "    </tr>\n",
       "  </thead>\n",
       "  <tbody>\n",
       "    <tr>\n",
       "      <th>0</th>\n",
       "      <td>TTCCACAAAGTTACACGGGAAAAGAGCCTGCAACAATGCGTGGAGT...</td>\n",
       "      <td>0</td>\n",
       "    </tr>\n",
       "    <tr>\n",
       "      <th>1</th>\n",
       "      <td>TAAATTAAGAATTGAAATGATTGAAAATGCTGGAAAATTAAAAATT...</td>\n",
       "      <td>0</td>\n",
       "    </tr>\n",
       "    <tr>\n",
       "      <th>2</th>\n",
       "      <td>ATATTTTTATTTTTTTGAAAAAAGGTTTAGTTAATTATAAAGTTTA...</td>\n",
       "      <td>0</td>\n",
       "    </tr>\n",
       "    <tr>\n",
       "      <th>3</th>\n",
       "      <td>TTATGGATGACGATATCAGACTTCTTAGAACGATCGGATCACTTCA...</td>\n",
       "      <td>0</td>\n",
       "    </tr>\n",
       "    <tr>\n",
       "      <th>4</th>\n",
       "      <td>GAATTACGGGGTTATTTAAATAAATTGCAAGAAGTTCCCATGCTAA...</td>\n",
       "      <td>0</td>\n",
       "    </tr>\n",
       "  </tbody>\n",
       "</table>\n",
       "</div>"
      ],
      "text/plain": [
       "                                                 seq  label\n",
       "0  TTCCACAAAGTTACACGGGAAAAGAGCCTGCAACAATGCGTGGAGT...      0\n",
       "1  TAAATTAAGAATTGAAATGATTGAAAATGCTGGAAAATTAAAAATT...      0\n",
       "2  ATATTTTTATTTTTTTGAAAAAAGGTTTAGTTAATTATAAAGTTTA...      0\n",
       "3  TTATGGATGACGATATCAGACTTCTTAGAACGATCGGATCACTTCA...      0\n",
       "4  GAATTACGGGGTTATTTAAATAAATTGCAAGAAGTTCCCATGCTAA...      0"
      ]
     },
     "execution_count": 15,
     "metadata": {},
     "output_type": "execute_result"
    }
   ],
   "source": [
    "# here is a sample of encoded data\n",
    "df.head()"
   ]
  },
  {
   "cell_type": "markdown",
   "id": "2c6b8d1d-9c23-4d3c-83fe-105a1b34f27c",
   "metadata": {},
   "source": [
    "## Step 5: save the data"
   ]
  },
  {
   "cell_type": "code",
   "execution_count": 16,
   "id": "e029e60a-220e-4158-8cff-03a658d9c2b0",
   "metadata": {},
   "outputs": [
    {
     "name": "stdout",
     "output_type": "stream",
     "text": [
      "CPU times: user 206 ms, sys: 69.1 ms, total: 275 ms\n",
      "Wall time: 7.19 s\n"
     ]
    }
   ],
   "source": [
    "%%time\n",
    "# the final step is to save the cleaned data. \n",
    "# this might take some time\n",
    "_ = df.to_parquet(data_dir)"
   ]
  },
  {
   "cell_type": "markdown",
   "id": "df9c7bf7-f545-4784-b863-f2fce40dc76b",
   "metadata": {},
   "source": [
    "## Step 6: cleanup"
   ]
  },
  {
   "cell_type": "code",
   "execution_count": 17,
   "id": "fb06190f-2305-42a6-b507-f8e566308f03",
   "metadata": {},
   "outputs": [],
   "source": [
    "# we delete the dataframe\n",
    "del df, unq_labs_df\n",
    "\n",
    "# then we shutdown the Dask cluster\n",
    "client.shutdown()\n",
    "\n",
    "# finally we close the Dask cluster\n",
    "client.close()"
   ]
  },
  {
   "cell_type": "markdown",
   "id": "96a95179-8111-441e-bb77-58b5622c451e",
   "metadata": {},
   "source": [
    "## finished!"
   ]
  }
 ],
 "metadata": {
  "kernelspec": {
   "display_name": "ds",
   "language": "python",
   "name": "ds"
  },
  "language_info": {
   "codemirror_mode": {
    "name": "ipython",
    "version": 3
   },
   "file_extension": ".py",
   "mimetype": "text/x-python",
   "name": "python",
   "nbconvert_exporter": "python",
   "pygments_lexer": "ipython3",
   "version": "3.9.12"
  }
 },
 "nbformat": 4,
 "nbformat_minor": 5
}
