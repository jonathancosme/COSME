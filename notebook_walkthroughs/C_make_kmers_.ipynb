{
 "cells": [
  {
   "cell_type": "markdown",
   "id": "ff4ee6ff-ceee-4530-9131-a1d219571760",
   "metadata": {},
   "source": [
    "# Make k-mers\n",
    "\n",
    "This is an explanation of the  \n",
    "**make_kmers.py**    \n",
    "file.  \n",
    "\n",
    "using variables from the config file, we\n",
    "1. split the raw gene sequence into k-merks subsets\n",
    "\n",
    "note:\n",
    "+ 1-mer is the fastest; we just split each letter individually\n",
    "+ 2+-mer is slow because it requires a sliding window. The smaller the k, the longer it will take (e.g 2-mer will take longer than 10-mer).\n",
    "\n",
    "Then we will save the output as parquet files."
   ]
  },
  {
   "cell_type": "markdown",
   "id": "c7c0ed94-a847-47f3-9b09-ff6322b53022",
   "metadata": {},
   "source": [
    "## Step 0: import required libraries"
   ]
  },
  {
   "cell_type": "code",
   "execution_count": 1,
   "id": "e27df203-f0c2-4538-91f3-45b31f21367d",
   "metadata": {},
   "outputs": [],
   "source": [
    "import sys\n",
    "sys.path.append('..') # this is to allow the script to read from the parent folder\n",
    "\n",
    "from scripts.global_funcs import load_data_config\n",
    "from dask.distributed import Client\n",
    "from dask_cuda import LocalCUDACluster\n",
    "import dask_cudf\n",
    "import numpy as np"
   ]
  },
  {
   "cell_type": "markdown",
   "id": "b395c4d9-4d5f-4993-9387-d98e3f97e920",
   "metadata": {},
   "source": [
    "## Step 1: load config file data"
   ]
  },
  {
   "cell_type": "code",
   "execution_count": 2,
   "id": "6cfafaeb-72cf-41e0-94c4-791f96705efe",
   "metadata": {},
   "outputs": [],
   "source": [
    "configs = load_data_config()"
   ]
  },
  {
   "cell_type": "code",
   "execution_count": 3,
   "id": "737c28ad-d3a7-4172-8d3c-db24119588ee",
   "metadata": {},
   "outputs": [
    {
     "name": "stdout",
     "output_type": "stream",
     "text": [
      "clean_fasta_file: /media/jcosme/Data/MarRef_parquet_10_cats\n",
      "output_dir: /media/jcosme/Data\n",
      "project_name: MarRef_parquet_10_cats\n",
      "base_col_names: ['seq', 'label']\n",
      "label_col_name: label\n",
      "input_col_name: seq\n",
      "label_regex: (?:[^a-zA-Z0-9]+)([a-zA-Z]+[0-9]+)(?:[^a-zA-Z0-9]+)\n",
      "k_mer: 1\n",
      "possible_gene_values: ['A', 'C', 'G', 'T']\n",
      "max_seq_len: 150\n",
      "data_splits: {'train': 0.9, 'val': 0.05, 'test': 0.05}\n",
      "random_seed: 42\n",
      "fasta_sep: >\n",
      "unq_labs_dir: /media/jcosme/Data/MarRef_parquet_10_cats/data/unq_labels\n",
      "unq_labs_dir_csv: /media/jcosme/Data/MarRef_parquet_10_cats/data/unq_labels.csv\n",
      "data_dir: /media/jcosme/Data/MarRef_parquet_10_cats/data/MarRef_parquet_10_cats\n",
      "nvtab_dir: /media/jcosme/Data/MarRef_parquet_10_cats/nvtab\n",
      "dask_dir: /media/jcosme/Data/MarRef_parquet_10_cats/dask\n",
      "tensorboard_dir: /media/jcosme/Data/MarRef_parquet_10_cats/tensorboard\n",
      "model_checkpoints_dir: /media/jcosme/Data/MarRef_parquet_10_cats/checkpoints/model_checkpoints\n",
      "model_checkpoints_parent_dir: /media/jcosme/Data/MarRef_parquet_10_cats/checkpoints\n",
      "model_weights_dir: /media/jcosme/Data/MarRef_parquet_10_cats/model_weights.h5\n"
     ]
    }
   ],
   "source": [
    "# these are the variables we will be using\n",
    "for key, val in configs.items():\n",
    "    print(f\"{key}: {val}\")"
   ]
  },
  {
   "cell_type": "code",
   "execution_count": 4,
   "id": "58858103-d4a3-4862-bd56-8a609d70dffe",
   "metadata": {},
   "outputs": [],
   "source": [
    "# lets put the variables we need into python variables\n",
    "input_col_name = configs['input_col_name']\n",
    "label_col_name = configs['label_col_name']\n",
    "data_dir = configs['data_dir']\n",
    "k_mer = configs['k_mer']\n",
    "dask_dir = configs['dask_dir']\n",
    "possible_gene_values = configs['possible_gene_values']\n",
    "possible_gene_values = sorted(possible_gene_values)\n",
    "max_seq_len = configs['max_seq_len']"
   ]
  },
  {
   "cell_type": "markdown",
   "id": "3f47a471-abe2-4738-8042-5ceee4d57ff1",
   "metadata": {},
   "source": [
    "## Step 2: start the cluster"
   ]
  },
  {
   "cell_type": "code",
   "execution_count": 5,
   "id": "ea4b3f2f-91d9-4f68-83d9-916f0f42cd03",
   "metadata": {},
   "outputs": [
    {
     "name": "stderr",
     "output_type": "stream",
     "text": [
      "2022-05-23 19:07:16,210 - distributed.diskutils - INFO - Found stale lock file and directory '/media/jcosme/Data/MarRef_parquet_10_cats/dask/dask-worker-space/worker-j9izu_3a', purging\n",
      "2022-05-23 19:07:16,210 - distributed.preloading - INFO - Import preload module: dask_cuda.initialize\n"
     ]
    },
    {
     "data": {
      "text/html": [
       "<div>\n",
       "    <div style=\"width: 24px; height: 24px; background-color: #e1e1e1; border: 3px solid #9D9D9D; border-radius: 5px; position: absolute;\"> </div>\n",
       "    <div style=\"margin-left: 48px;\">\n",
       "        <h3 style=\"margin-bottom: 0px;\">Client</h3>\n",
       "        <p style=\"color: #9D9D9D; margin-bottom: 0px;\">Client-786835a0-daf5-11ec-b519-84a938e2553a</p>\n",
       "        <table style=\"width: 100%; text-align: left;\">\n",
       "\n",
       "        <tr>\n",
       "        \n",
       "            <td style=\"text-align: left;\"><strong>Connection method:</strong> Cluster object</td>\n",
       "            <td style=\"text-align: left;\"><strong>Cluster type:</strong> dask_cuda.LocalCUDACluster</td>\n",
       "        \n",
       "        </tr>\n",
       "\n",
       "        \n",
       "            <tr>\n",
       "                <td style=\"text-align: left;\">\n",
       "                    <strong>Dashboard: </strong> <a href=\"http://127.0.0.1:8787/status\" target=\"_blank\">http://127.0.0.1:8787/status</a>\n",
       "                </td>\n",
       "                <td style=\"text-align: left;\"></td>\n",
       "            </tr>\n",
       "        \n",
       "\n",
       "        </table>\n",
       "\n",
       "        \n",
       "            <details>\n",
       "            <summary style=\"margin-bottom: 20px;\"><h3 style=\"display: inline;\">Cluster Info</h3></summary>\n",
       "            <div class=\"jp-RenderedHTMLCommon jp-RenderedHTML jp-mod-trusted jp-OutputArea-output\">\n",
       "    <div style=\"width: 24px; height: 24px; background-color: #e1e1e1; border: 3px solid #9D9D9D; border-radius: 5px; position: absolute;\">\n",
       "    </div>\n",
       "    <div style=\"margin-left: 48px;\">\n",
       "        <h3 style=\"margin-bottom: 0px; margin-top: 0px;\">LocalCUDACluster</h3>\n",
       "        <p style=\"color: #9D9D9D; margin-bottom: 0px;\">bee494e4</p>\n",
       "        <table style=\"width: 100%; text-align: left;\">\n",
       "            <tr>\n",
       "                <td style=\"text-align: left;\">\n",
       "                    <strong>Dashboard:</strong> <a href=\"http://127.0.0.1:8787/status\" target=\"_blank\">http://127.0.0.1:8787/status</a>\n",
       "                </td>\n",
       "                <td style=\"text-align: left;\">\n",
       "                    <strong>Workers:</strong> 1\n",
       "                </td>\n",
       "            </tr>\n",
       "            <tr>\n",
       "                <td style=\"text-align: left;\">\n",
       "                    <strong>Total threads:</strong> 1\n",
       "                </td>\n",
       "                <td style=\"text-align: left;\">\n",
       "                    <strong>Total memory:</strong> 31.21 GiB\n",
       "                </td>\n",
       "            </tr>\n",
       "            \n",
       "            <tr>\n",
       "    <td style=\"text-align: left;\"><strong>Status:</strong> running</td>\n",
       "    <td style=\"text-align: left;\"><strong>Using processes:</strong> True</td>\n",
       "</tr>\n",
       "\n",
       "            \n",
       "        </table>\n",
       "\n",
       "        <details>\n",
       "            <summary style=\"margin-bottom: 20px;\">\n",
       "                <h3 style=\"display: inline;\">Scheduler Info</h3>\n",
       "            </summary>\n",
       "\n",
       "            <div style=\"\">\n",
       "    <div>\n",
       "        <div style=\"width: 24px; height: 24px; background-color: #FFF7E5; border: 3px solid #FF6132; border-radius: 5px; position: absolute;\"> </div>\n",
       "        <div style=\"margin-left: 48px;\">\n",
       "            <h3 style=\"margin-bottom: 0px;\">Scheduler</h3>\n",
       "            <p style=\"color: #9D9D9D; margin-bottom: 0px;\">Scheduler-0265a37e-0e74-4421-a682-4c3fc7b0fec9</p>\n",
       "            <table style=\"width: 100%; text-align: left;\">\n",
       "                <tr>\n",
       "                    <td style=\"text-align: left;\">\n",
       "                        <strong>Comm:</strong> tcp://127.0.0.1:44213\n",
       "                    </td>\n",
       "                    <td style=\"text-align: left;\">\n",
       "                        <strong>Workers:</strong> 1\n",
       "                    </td>\n",
       "                </tr>\n",
       "                <tr>\n",
       "                    <td style=\"text-align: left;\">\n",
       "                        <strong>Dashboard:</strong> <a href=\"http://127.0.0.1:8787/status\" target=\"_blank\">http://127.0.0.1:8787/status</a>\n",
       "                    </td>\n",
       "                    <td style=\"text-align: left;\">\n",
       "                        <strong>Total threads:</strong> 1\n",
       "                    </td>\n",
       "                </tr>\n",
       "                <tr>\n",
       "                    <td style=\"text-align: left;\">\n",
       "                        <strong>Started:</strong> Just now\n",
       "                    </td>\n",
       "                    <td style=\"text-align: left;\">\n",
       "                        <strong>Total memory:</strong> 31.21 GiB\n",
       "                    </td>\n",
       "                </tr>\n",
       "            </table>\n",
       "        </div>\n",
       "    </div>\n",
       "\n",
       "    <details style=\"margin-left: 48px;\">\n",
       "        <summary style=\"margin-bottom: 20px;\">\n",
       "            <h3 style=\"display: inline;\">Workers</h3>\n",
       "        </summary>\n",
       "\n",
       "        \n",
       "        <div style=\"margin-bottom: 20px;\">\n",
       "            <div style=\"width: 24px; height: 24px; background-color: #DBF5FF; border: 3px solid #4CC9FF; border-radius: 5px; position: absolute;\"> </div>\n",
       "            <div style=\"margin-left: 48px;\">\n",
       "            <details>\n",
       "                <summary>\n",
       "                    <h4 style=\"margin-bottom: 0px; display: inline;\">Worker: 0</h4>\n",
       "                </summary>\n",
       "                <table style=\"width: 100%; text-align: left;\">\n",
       "                    <tr>\n",
       "                        <td style=\"text-align: left;\">\n",
       "                            <strong>Comm: </strong> tcp://127.0.0.1:34375\n",
       "                        </td>\n",
       "                        <td style=\"text-align: left;\">\n",
       "                            <strong>Total threads: </strong> 1\n",
       "                        </td>\n",
       "                    </tr>\n",
       "                    <tr>\n",
       "                        <td style=\"text-align: left;\">\n",
       "                            <strong>Dashboard: </strong> <a href=\"http://127.0.0.1:39561/status\" target=\"_blank\">http://127.0.0.1:39561/status</a>\n",
       "                        </td>\n",
       "                        <td style=\"text-align: left;\">\n",
       "                            <strong>Memory: </strong> 31.21 GiB\n",
       "                        </td>\n",
       "                    </tr>\n",
       "                    <tr>\n",
       "                        <td style=\"text-align: left;\">\n",
       "                            <strong>Nanny: </strong> tcp://127.0.0.1:43793\n",
       "                        </td>\n",
       "                        <td style=\"text-align: left;\"></td>\n",
       "                    </tr>\n",
       "                    <tr>\n",
       "                        <td colspan=\"2\" style=\"text-align: left;\">\n",
       "                            <strong>Local directory: </strong> /media/jcosme/Data/MarRef_parquet_10_cats/dask/dask-worker-space/worker-tb7qa3d9\n",
       "                        </td>\n",
       "                    </tr>\n",
       "\n",
       "                    \n",
       "                    <tr>\n",
       "                        <td style=\"text-align: left;\">\n",
       "                            <strong>GPU: </strong>NVIDIA GeForce RTX 3080 Laptop GPU\n",
       "                        </td>\n",
       "                        <td style=\"text-align: left;\">\n",
       "                            <strong>GPU memory: </strong> 16.00 GiB\n",
       "                        </td>\n",
       "                    </tr>\n",
       "                    \n",
       "\n",
       "                    \n",
       "\n",
       "                </table>\n",
       "            </details>\n",
       "            </div>\n",
       "        </div>\n",
       "        \n",
       "\n",
       "    </details>\n",
       "</div>\n",
       "\n",
       "        </details>\n",
       "    </div>\n",
       "</div>\n",
       "            </details>\n",
       "        \n",
       "\n",
       "    </div>\n",
       "</div>"
      ],
      "text/plain": [
       "<Client: 'tcp://127.0.0.1:44213' processes=1 threads=1, memory=31.21 GiB>"
      ]
     },
     "execution_count": 5,
     "metadata": {},
     "output_type": "execute_result"
    }
   ],
   "source": [
    "cluster = LocalCUDACluster(local_directory=dask_dir)\n",
    "client = Client(cluster)\n",
    "client"
   ]
  },
  {
   "cell_type": "markdown",
   "id": "b87238f2-905a-47e3-8edf-2cb1f43218c9",
   "metadata": {},
   "source": [
    "### optional: \n",
    "click the link above to open up the Dask Dashboard, which will allow you to see the progress of your job.  \n",
    "**note:** this will only work on a jupyter notebook"
   ]
  },
  {
   "cell_type": "markdown",
   "id": "d2333ef3-26d3-44c9-b9ed-d8888e2e8adf",
   "metadata": {},
   "source": [
    "## Step 3: define function"
   ]
  },
  {
   "cell_type": "code",
   "execution_count": 6,
   "id": "ff2ee946-64f7-448b-9402-cf64924f66b4",
   "metadata": {},
   "outputs": [],
   "source": [
    "replace_gene_values = []\n",
    "for gene_val in possible_gene_values:\n",
    "    replace_gene_values.append(gene_val + ' ')\n",
    "\n",
    "def add_whitespace(df):\n",
    "    df[input_col_name] = df[input_col_name].str.replace(possible_gene_values, replace_gene_values, regex=False)\n",
    "    return df\n",
    "\n",
    "def get_kmers(df):\n",
    "    df['temp'] = df[input_col_name].copy()\n",
    "    df['temp'] = ' ' \n",
    "    for i in np.arange(0, df[input_col_name].str.len().max() - k_mer):\n",
    "        # print(i)\n",
    "        temp_df = df[input_col_name].str[i: i+k_mer].fillna(' ')\n",
    "        change_mask = temp_df.str.len() < k_mer\n",
    "        temp_df[change_mask] = ' ' \n",
    "        df['temp'] = df['temp'] + ' ' + temp_df  \n",
    "    df['temp'] = df['temp'].str.normalize_spaces()\n",
    "    df[input_col_name] = df['temp']\n",
    "    df = df.drop(columns=['temp'])\n",
    "    return df"
   ]
  },
  {
   "cell_type": "markdown",
   "id": "9599a1e1-358a-4f98-a35d-75214885d0ed",
   "metadata": {},
   "source": [
    "## Step 4: data transformations"
   ]
  },
  {
   "cell_type": "code",
   "execution_count": 7,
   "id": "29aa364e-644c-4222-b89b-a33f4046efdb",
   "metadata": {},
   "outputs": [],
   "source": [
    "# first we read the parquet\n",
    "df = dask_cudf.read_parquet(data_dir)"
   ]
  },
  {
   "cell_type": "code",
   "execution_count": 8,
   "id": "c8d19a37-68b7-47bf-9549-41c1df7deddc",
   "metadata": {},
   "outputs": [
    {
     "data": {
      "text/html": [
       "<div>\n",
       "<style scoped>\n",
       "    .dataframe tbody tr th:only-of-type {\n",
       "        vertical-align: middle;\n",
       "    }\n",
       "\n",
       "    .dataframe tbody tr th {\n",
       "        vertical-align: top;\n",
       "    }\n",
       "\n",
       "    .dataframe thead th {\n",
       "        text-align: right;\n",
       "    }\n",
       "</style>\n",
       "<table border=\"1\" class=\"dataframe\">\n",
       "  <thead>\n",
       "    <tr style=\"text-align: right;\">\n",
       "      <th></th>\n",
       "      <th>seq</th>\n",
       "      <th>label</th>\n",
       "    </tr>\n",
       "  </thead>\n",
       "  <tbody>\n",
       "    <tr>\n",
       "      <th>0</th>\n",
       "      <td>GAAAGCGAGTACGACCCGTTCGGCGCCGCCCACAGCTCGACCTCGA...</td>\n",
       "      <td>1</td>\n",
       "    </tr>\n",
       "    <tr>\n",
       "      <th>1</th>\n",
       "      <td>AGCATCGGAACAAGATCCGCAAGGGCGAGTTCGAGCAGGCCGTCGC...</td>\n",
       "      <td>1</td>\n",
       "    </tr>\n",
       "    <tr>\n",
       "      <th>2</th>\n",
       "      <td>TCGAGCGGCTACCTGGCCGAGACGTTCCGGGCGGGGATCGAGAATG...</td>\n",
       "      <td>1</td>\n",
       "    </tr>\n",
       "    <tr>\n",
       "      <th>3</th>\n",
       "      <td>GCGCCCCGGTATGTCGAGATGGTTCGTAGGCTCGTCCAGCACGAAG...</td>\n",
       "      <td>1</td>\n",
       "    </tr>\n",
       "    <tr>\n",
       "      <th>4</th>\n",
       "      <td>GCGTCCGTCATCGCCGGCGGGAAGATCGCGATCTCGCTGCTCTCGG...</td>\n",
       "      <td>1</td>\n",
       "    </tr>\n",
       "  </tbody>\n",
       "</table>\n",
       "</div>"
      ],
      "text/plain": [
       "                                                 seq  label\n",
       "0  GAAAGCGAGTACGACCCGTTCGGCGCCGCCCACAGCTCGACCTCGA...      1\n",
       "1  AGCATCGGAACAAGATCCGCAAGGGCGAGTTCGAGCAGGCCGTCGC...      1\n",
       "2  TCGAGCGGCTACCTGGCCGAGACGTTCCGGGCGGGGATCGAGAATG...      1\n",
       "3  GCGCCCCGGTATGTCGAGATGGTTCGTAGGCTCGTCCAGCACGAAG...      1\n",
       "4  GCGTCCGTCATCGCCGGCGGGAAGATCGCGATCTCGCTGCTCTCGG...      1"
      ]
     },
     "execution_count": 8,
     "metadata": {},
     "output_type": "execute_result"
    }
   ],
   "source": [
    "# here is a data sample\n",
    "df.head()"
   ]
  },
  {
   "cell_type": "code",
   "execution_count": 9,
   "id": "14115b0b-801a-493f-964c-1bf1d3b70b0a",
   "metadata": {},
   "outputs": [
    {
     "name": "stderr",
     "output_type": "stream",
     "text": [
      "/home/jcosme/miniconda3/envs/ds/lib/python3.9/site-packages/cudf/core/column/string.py:911: UserWarning: `n` parameter is not supported when `pat` and `repl` are list-like inputs\n",
      "  warnings.warn(\n"
     ]
    }
   ],
   "source": [
    "# next, we apply the function defined above to the data\n",
    "if k_mer == 1:\n",
    "    df = df.map_partitions(add_whitespace)\n",
    "elif (k_mer > 1):\n",
    "    df = df.map_partitions(get_kmers)\n"
   ]
  },
  {
   "cell_type": "code",
   "execution_count": 10,
   "id": "3f180c5e-a510-4372-9265-d1468fbfabc4",
   "metadata": {},
   "outputs": [
    {
     "name": "stderr",
     "output_type": "stream",
     "text": [
      "/home/jcosme/miniconda3/envs/ds/lib/python3.9/site-packages/cudf/core/column/string.py:911: UserWarning: `n` parameter is not supported when `pat` and `repl` are list-like inputs\n",
      "  warnings.warn(\n"
     ]
    },
    {
     "data": {
      "text/html": [
       "<div>\n",
       "<style scoped>\n",
       "    .dataframe tbody tr th:only-of-type {\n",
       "        vertical-align: middle;\n",
       "    }\n",
       "\n",
       "    .dataframe tbody tr th {\n",
       "        vertical-align: top;\n",
       "    }\n",
       "\n",
       "    .dataframe thead th {\n",
       "        text-align: right;\n",
       "    }\n",
       "</style>\n",
       "<table border=\"1\" class=\"dataframe\">\n",
       "  <thead>\n",
       "    <tr style=\"text-align: right;\">\n",
       "      <th></th>\n",
       "      <th>seq</th>\n",
       "      <th>label</th>\n",
       "    </tr>\n",
       "  </thead>\n",
       "  <tbody>\n",
       "    <tr>\n",
       "      <th>0</th>\n",
       "      <td>G A A A G C G A G T A C G A C C C G T T C G G ...</td>\n",
       "      <td>1</td>\n",
       "    </tr>\n",
       "    <tr>\n",
       "      <th>1</th>\n",
       "      <td>A G C A T C G G A A C A A G A T C C G C A A G ...</td>\n",
       "      <td>1</td>\n",
       "    </tr>\n",
       "    <tr>\n",
       "      <th>2</th>\n",
       "      <td>T C G A G C G G C T A C C T G G C C G A G A C ...</td>\n",
       "      <td>1</td>\n",
       "    </tr>\n",
       "    <tr>\n",
       "      <th>3</th>\n",
       "      <td>G C G C C C C G G T A T G T C G A G A T G G T ...</td>\n",
       "      <td>1</td>\n",
       "    </tr>\n",
       "    <tr>\n",
       "      <th>4</th>\n",
       "      <td>G C G T C C G T C A T C G C C G G C G G G A A ...</td>\n",
       "      <td>1</td>\n",
       "    </tr>\n",
       "  </tbody>\n",
       "</table>\n",
       "</div>"
      ],
      "text/plain": [
       "                                                 seq  label\n",
       "0  G A A A G C G A G T A C G A C C C G T T C G G ...      1\n",
       "1  A G C A T C G G A A C A A G A T C C G C A A G ...      1\n",
       "2  T C G A G C G G C T A C C T G G C C G A G A C ...      1\n",
       "3  G C G C C C C G G T A T G T C G A G A T G G T ...      1\n",
       "4  G C G T C C G T C A T C G C C G G C G G G A A ...      1"
      ]
     },
     "execution_count": 10,
     "metadata": {},
     "output_type": "execute_result"
    }
   ],
   "source": [
    "df.head()"
   ]
  },
  {
   "cell_type": "code",
   "execution_count": 11,
   "id": "a4c444cd-aa6f-4eda-a11c-43f4a3356afb",
   "metadata": {},
   "outputs": [],
   "source": [
    "df[input_col_name] = df[input_col_name].str.split()"
   ]
  },
  {
   "cell_type": "code",
   "execution_count": 12,
   "id": "97b0bcd0-efd7-4f49-bd26-c4d6c011e5af",
   "metadata": {},
   "outputs": [
    {
     "data": {
      "text/html": [
       "<div>\n",
       "<style scoped>\n",
       "    .dataframe tbody tr th:only-of-type {\n",
       "        vertical-align: middle;\n",
       "    }\n",
       "\n",
       "    .dataframe tbody tr th {\n",
       "        vertical-align: top;\n",
       "    }\n",
       "\n",
       "    .dataframe thead th {\n",
       "        text-align: right;\n",
       "    }\n",
       "</style>\n",
       "<table border=\"1\" class=\"dataframe\">\n",
       "  <thead>\n",
       "    <tr style=\"text-align: right;\">\n",
       "      <th></th>\n",
       "      <th>seq</th>\n",
       "      <th>label</th>\n",
       "    </tr>\n",
       "  </thead>\n",
       "  <tbody>\n",
       "    <tr>\n",
       "      <th>0</th>\n",
       "      <td>[G, A, A, A, G, C, G, A, G, T, A, C, G, A, C, ...</td>\n",
       "      <td>1</td>\n",
       "    </tr>\n",
       "    <tr>\n",
       "      <th>1</th>\n",
       "      <td>[A, G, C, A, T, C, G, G, A, A, C, A, A, G, A, ...</td>\n",
       "      <td>1</td>\n",
       "    </tr>\n",
       "    <tr>\n",
       "      <th>2</th>\n",
       "      <td>[T, C, G, A, G, C, G, G, C, T, A, C, C, T, G, ...</td>\n",
       "      <td>1</td>\n",
       "    </tr>\n",
       "    <tr>\n",
       "      <th>3</th>\n",
       "      <td>[G, C, G, C, C, C, C, G, G, T, A, T, G, T, C, ...</td>\n",
       "      <td>1</td>\n",
       "    </tr>\n",
       "    <tr>\n",
       "      <th>4</th>\n",
       "      <td>[G, C, G, T, C, C, G, T, C, A, T, C, G, C, C, ...</td>\n",
       "      <td>1</td>\n",
       "    </tr>\n",
       "  </tbody>\n",
       "</table>\n",
       "</div>"
      ],
      "text/plain": [
       "                                                 seq  label\n",
       "0  [G, A, A, A, G, C, G, A, G, T, A, C, G, A, C, ...      1\n",
       "1  [A, G, C, A, T, C, G, G, A, A, C, A, A, G, A, ...      1\n",
       "2  [T, C, G, A, G, C, G, G, C, T, A, C, C, T, G, ...      1\n",
       "3  [G, C, G, C, C, C, C, G, G, T, A, T, G, T, C, ...      1\n",
       "4  [G, C, G, T, C, C, G, T, C, A, T, C, G, C, C, ...      1"
      ]
     },
     "execution_count": 12,
     "metadata": {},
     "output_type": "execute_result"
    }
   ],
   "source": [
    "df.head()"
   ]
  },
  {
   "cell_type": "markdown",
   "id": "2c6b8d1d-9c23-4d3c-83fe-105a1b34f27c",
   "metadata": {},
   "source": [
    "## Step 5: save the data"
   ]
  },
  {
   "cell_type": "code",
   "execution_count": 13,
   "id": "e029e60a-220e-4158-8cff-03a658d9c2b0",
   "metadata": {},
   "outputs": [
    {
     "name": "stdout",
     "output_type": "stream",
     "text": [
      "CPU times: user 19.5 ms, sys: 6.15 ms, total: 25.7 ms\n",
      "Wall time: 520 ms\n"
     ]
    }
   ],
   "source": [
    "%%time\n",
    "# the final step is to save the cleaned data. \n",
    "# this might take some time\n",
    "_ = df.to_parquet(data_dir)"
   ]
  },
  {
   "cell_type": "markdown",
   "id": "df9c7bf7-f545-4784-b863-f2fce40dc76b",
   "metadata": {},
   "source": [
    "## Step 6: cleanup"
   ]
  },
  {
   "cell_type": "code",
   "execution_count": 14,
   "id": "fb06190f-2305-42a6-b507-f8e566308f03",
   "metadata": {},
   "outputs": [],
   "source": [
    "# we delete the dataframe\n",
    "del df\n",
    "\n",
    "# then we shutdown the Dask cluster\n",
    "client.shutdown()\n",
    "\n",
    "# finally we close the Dask cluster\n",
    "client.close()"
   ]
  },
  {
   "cell_type": "markdown",
   "id": "96a95179-8111-441e-bb77-58b5622c451e",
   "metadata": {},
   "source": [
    "## finished!"
   ]
  }
 ],
 "metadata": {
  "kernelspec": {
   "display_name": "ds",
   "language": "python",
   "name": "ds"
  },
  "language_info": {
   "codemirror_mode": {
    "name": "ipython",
    "version": 3
   },
   "file_extension": ".py",
   "mimetype": "text/x-python",
   "name": "python",
   "nbconvert_exporter": "python",
   "pygments_lexer": "ipython3",
   "version": "3.9.12"
  }
 },
 "nbformat": 4,
 "nbformat_minor": 5
}
