{
 "cells": [
  {
   "cell_type": "code",
   "execution_count": 1,
   "id": "1bc6637f-deef-4c18-bd20-33a671f37a3e",
   "metadata": {},
   "outputs": [],
   "source": [
    "import tensorflow as tf\n",
    "import os\n",
    "import pandas as pd\n",
    "os.environ['TF_FORCE_GPU_ALLOW_GROWTH'] = 'true'\n",
    "\n",
    "from cosme_model import COSMELayer\n",
    "from global_funcs import load_model_config, load_program_config"
   ]
  },
  {
   "cell_type": "code",
   "execution_count": 2,
   "id": "2ef2960d-1c89-44c9-8ff4-f715018c649a",
   "metadata": {},
   "outputs": [
    {
     "data": {
      "text/plain": [
       "{'preblock_filters': 64,\n",
       " 'preblock_kernel_sizes': [3, 5, 7, 9, 11, 13],\n",
       " 'preblock_pool_size': 2,\n",
       " 'idblock_kernel_sizes': [3, 5, 7, 9, 11, 13],\n",
       " 'idblock_filters': [64, 128, 256, 512],\n",
       " 'idblock_activation': 'gelu',\n",
       " 'idblock_avg_pool_size': 2,\n",
       " 'last_activation': 'softmax'}"
      ]
     },
     "execution_count": 2,
     "metadata": {},
     "output_type": "execute_result"
    }
   ],
   "source": [
    "model_config = load_model_config()\n",
    "model_config"
   ]
  },
  {
   "cell_type": "code",
   "execution_count": 3,
   "id": "c728d61f-89f9-4f1c-ab0e-9eb59ef2063c",
   "metadata": {},
   "outputs": [],
   "source": [
    "preblock_filters = model_config['preblock_filters']\n",
    "preblock_kernel_sizes = model_config['preblock_kernel_sizes']\n",
    "preblock_pool_size = model_config['preblock_pool_size']\n",
    "idblock_kernel_sizes = model_config['idblock_kernel_sizes']\n",
    "idblock_filters = model_config['idblock_filters']\n",
    "idblock_activation = model_config['idblock_activation']\n",
    "idblock_avg_pool_size = model_config['idblock_avg_pool_size']\n",
    "last_activation = model_config['last_activation']"
   ]
  },
  {
   "cell_type": "code",
   "execution_count": 4,
   "id": "5f6efe85-4898-443e-8ff1-01ee96e30385",
   "metadata": {},
   "outputs": [
    {
     "data": {
      "text/plain": [
       "int"
      ]
     },
     "execution_count": 4,
     "metadata": {},
     "output_type": "execute_result"
    }
   ],
   "source": [
    "type(idblock_avg_pool_size)"
   ]
  },
  {
   "cell_type": "code",
   "execution_count": 5,
   "id": "7719efe9-2444-4f04-be83-9e10084ce4ee",
   "metadata": {},
   "outputs": [],
   "source": [
    "configs = load_program_config()"
   ]
  },
  {
   "cell_type": "code",
   "execution_count": 6,
   "id": "b3a68ab9-e9d8-47b3-9971-ccccccf92ff7",
   "metadata": {},
   "outputs": [],
   "source": [
    "output_dir = configs['output_dir']\n",
    "project_name = configs['project_name']"
   ]
  },
  {
   "cell_type": "code",
   "execution_count": 7,
   "id": "c87b9905-dc9d-467b-9e1c-bf822a38ca44",
   "metadata": {},
   "outputs": [
    {
     "data": {
      "text/plain": [
       "855"
      ]
     },
     "execution_count": 7,
     "metadata": {},
     "output_type": "execute_result"
    }
   ],
   "source": [
    "n_classes = pd.read_csv(f\"{output_dir}/{project_name}/data/unq_labels.csv\" ).shape[0]\n",
    "n_classes"
   ]
  },
  {
   "cell_type": "code",
   "execution_count": 8,
   "id": "cd3770e5-564a-4262-892c-2fcfd9bc66dc",
   "metadata": {},
   "outputs": [
    {
     "name": "stderr",
     "output_type": "stream",
     "text": [
      "2022-05-23 05:05:36.433520: I tensorflow/stream_executor/cuda/cuda_gpu_executor.cc:975] successful NUMA node read from SysFS had negative value (-1), but there must be at least one NUMA node, so returning NUMA node zero\n",
      "2022-05-23 05:05:36.454550: W tensorflow/stream_executor/platform/default/dso_loader.cc:64] Could not load dynamic library 'libcudnn.so.8'; dlerror: libcudnn.so.8: cannot open shared object file: No such file or directory\n",
      "2022-05-23 05:05:36.454566: W tensorflow/core/common_runtime/gpu/gpu_device.cc:1850] Cannot dlopen some GPU libraries. Please make sure the missing libraries mentioned above are installed properly if you would like to use GPU. Follow the guide at https://www.tensorflow.org/install/gpu for how to download and setup the required libraries for your platform.\n",
      "Skipping registering GPU devices...\n",
      "2022-05-23 05:05:36.454921: I tensorflow/core/platform/cpu_feature_guard.cc:193] This TensorFlow binary is optimized with oneAPI Deep Neural Network Library (oneDNN) to use the following CPU instructions in performance-critical operations:  AVX2 FMA\n",
      "To enable them in other operations, rebuild TensorFlow with the appropriate compiler flags.\n"
     ]
    }
   ],
   "source": [
    "input_layer = tf.keras.layers.Input(shape=(1,150,), dtype=tf.float32)\n",
    "cosme_layer = COSMELayer(\n",
    "                preblock_filters=preblock_filters,\n",
    "                preblock_kernel_sizes=preblock_kernel_sizes,\n",
    "                preblock_pool_size=preblock_pool_size,\n",
    "                idblock_kernel_sizes=idblock_kernel_sizes,\n",
    "                idblock_filters = idblock_filters,\n",
    "                idblock_activation=idblock_activation,\n",
    "                idblock_avg_pool_size=idblock_avg_pool_size,\n",
    "                last_activation=last_activation,\n",
    "                n_classes=n_classes,\n",
    "                )\n",
    "output_layer = cosme_layer(input_layer)"
   ]
  },
  {
   "cell_type": "code",
   "execution_count": 9,
   "id": "903c82fa-0755-4def-adad-51d0f705be2a",
   "metadata": {},
   "outputs": [],
   "source": [
    "cosme_model = tf.keras.Model(inputs=input_layer, outputs=output_layer)\n",
    "cosme_model.compile(optimizer='adam' , loss = tf.keras.losses.sparse_categorical_crossentropy , metrics=['sparse_categorical_accuracy'])"
   ]
  },
  {
   "cell_type": "code",
   "execution_count": 10,
   "id": "c0f8e691-dc05-4789-a598-5235306a49d2",
   "metadata": {},
   "outputs": [
    {
     "name": "stdout",
     "output_type": "stream",
     "text": [
      "You must install pydot (`pip install pydot`) and install graphviz (see instructions at https://graphviz.gitlab.io/download/) for plot_model/model_to_dot to work.\n"
     ]
    }
   ],
   "source": [
    "tf.keras.utils.plot_model(cosme_model)"
   ]
  },
  {
   "cell_type": "code",
   "execution_count": null,
   "id": "a1c084ab-6cea-486c-87e4-345926444bcc",
   "metadata": {},
   "outputs": [],
   "source": []
  },
  {
   "cell_type": "code",
   "execution_count": 14,
   "id": "bc9690c3-3b4e-46a4-ade0-06ac3d871dba",
   "metadata": {},
   "outputs": [
    {
     "name": "stdout",
     "output_type": "stream",
     "text": [
      "The tensorboard extension is already loaded. To reload it, use:\n",
      "  %reload_ext tensorboard\n"
     ]
    }
   ],
   "source": [
    "%load_ext tensorboard"
   ]
  },
  {
   "cell_type": "code",
   "execution_count": 16,
   "id": "c41fc22d-6f55-427e-8be3-343977259ee9",
   "metadata": {},
   "outputs": [],
   "source": [
    "os.environ['TENSORBOARD_BINARY'] = '/home/jcosme/miniconda3/envs/tf/bin/tensorboard'"
   ]
  },
  {
   "cell_type": "code",
   "execution_count": 17,
   "id": "f43eddb5-b3e0-4936-8e00-6f24f787359e",
   "metadata": {},
   "outputs": [
    {
     "data": {
      "text/html": [
       "\n",
       "      <iframe id=\"tensorboard-frame-3295b631f14f3d2b\" width=\"100%\" height=\"800\" frameborder=\"0\">\n",
       "      </iframe>\n",
       "      <script>\n",
       "        (function() {\n",
       "          const frame = document.getElementById(\"tensorboard-frame-3295b631f14f3d2b\");\n",
       "          const url = new URL(\"/\", window.location);\n",
       "          const port = 6006;\n",
       "          if (port) {\n",
       "            url.port = port;\n",
       "          }\n",
       "          frame.src = url;\n",
       "        })();\n",
       "      </script>\n",
       "    "
      ],
      "text/plain": [
       "<IPython.core.display.HTML object>"
      ]
     },
     "metadata": {},
     "output_type": "display_data"
    }
   ],
   "source": [
    "%tensorboard --logdir tf_logs"
   ]
  },
  {
   "cell_type": "code",
   "execution_count": null,
   "id": "96733600-3131-4be2-aa49-ffeaa4a02d40",
   "metadata": {},
   "outputs": [],
   "source": []
  }
 ],
 "metadata": {
  "kernelspec": {
   "display_name": "tf",
   "language": "python",
   "name": "tf"
  },
  "language_info": {
   "codemirror_mode": {
    "name": "ipython",
    "version": 3
   },
   "file_extension": ".py",
   "mimetype": "text/x-python",
   "name": "python",
   "nbconvert_exporter": "python",
   "pygments_lexer": "ipython3",
   "version": "3.7.12"
  }
 },
 "nbformat": 4,
 "nbformat_minor": 5
}
