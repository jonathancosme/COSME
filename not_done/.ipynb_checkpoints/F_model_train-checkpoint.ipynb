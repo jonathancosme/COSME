{
 "cells": [
  {
   "cell_type": "code",
   "execution_count": 1,
   "id": "e5286613-5da7-48df-be0a-7e6b2f7bda6a",
   "metadata": {},
   "outputs": [],
   "source": [
    "import sys\n",
    "sys.path.append('..')\n",
    "\n",
    "from scripts.global_funcs import load_data_config, load_model_config, get_num_of_classes\n",
    "from glob import glob\n",
    "import os\n",
    "\n",
    "\n",
    "\n",
    "import nvtabular as nvt\n",
    "import dask_cudf\n",
    "\n",
    "from nvtabular.utils import device_mem_size\n",
    "\n",
    "from dask_cuda import LocalCUDACluster\n",
    "from dask.distributed import Client\n",
    "\n",
    "import shutil\n",
    "\n",
    "# import rmm\n",
    "import pathlib"
   ]
  },
  {
   "cell_type": "code",
   "execution_count": 2,
   "id": "f4334e42-d8d4-43e2-9cdc-68dfe0db598f",
   "metadata": {},
   "outputs": [
    {
     "data": {
      "text/plain": [
       "{'preblock_filters': 64,\n",
       " 'preblock_kernel_sizes': [3],\n",
       " 'preblock_pool_size': 2,\n",
       " 'idblock_kernel_sizes': [3],\n",
       " 'idblock_filters': [64, 128, 256, 512],\n",
       " 'idblock_activation': 'gelu',\n",
       " 'idblock_avg_pool_size': 2,\n",
       " 'last_activation': 'softmax',\n",
       " 'batch_size': 512,\n",
       " 'learn_rate': 0.0001,\n",
       " 'epochs': 53,\n",
       " 'patience': 10,\n",
       " 'num_warmup_epochs': 3,\n",
       " 'warmup_lr_multiplier': 0.01,\n",
       " 'from_logits': False,\n",
       " 'TF_MEMORY_ALLOCATION': '0.7',\n",
       " 'TF_VISIBLE_DEVICE': '0',\n",
       " 'TF_FORCE_GPU_ALLOW_GROWTH': 'true',\n",
       " 'device_spill_frac': 0.2,\n",
       " 'protocol': 'tcp',\n",
       " 'visible_devices': '0',\n",
       " 'enable_tcp_over_ucx': False,\n",
       " 'enable_nvlink': False,\n",
       " 'enable_infiniband': False,\n",
       " 'rmm_pool_size': '1GB',\n",
       " 'clear_models_dirs': True,\n",
       " 'clear_tensorboard': True}"
      ]
     },
     "execution_count": 2,
     "metadata": {},
     "output_type": "execute_result"
    }
   ],
   "source": [
    "model_config = load_model_config()\n",
    "model_config"
   ]
  },
  {
   "cell_type": "code",
   "execution_count": 3,
   "id": "774f0797-6563-48a4-a8d5-f96707f08813",
   "metadata": {},
   "outputs": [],
   "source": [
    "preblock_filters = model_config['preblock_filters']\n",
    "preblock_kernel_sizes = model_config['preblock_kernel_sizes']\n",
    "preblock_pool_size = model_config['preblock_pool_size']\n",
    "idblock_kernel_sizes = model_config['idblock_kernel_sizes']\n",
    "idblock_filters = model_config['idblock_filters']\n",
    "idblock_activation = model_config['idblock_activation']\n",
    "idblock_avg_pool_size = model_config['idblock_avg_pool_size']\n",
    "last_activation = model_config['last_activation']\n",
    "batch_size = model_config['batch_size']\n",
    "learn_rate = model_config['learn_rate']\n",
    "epochs = model_config['epochs']\n",
    "patience = model_config['patience']\n",
    "clear_models_dirs = model_config['clear_models_dirs']\n",
    "clear_tensorboard = model_config['clear_tensorboard']\n",
    "num_warmup_epochs = model_config['num_warmup_epochs']\n",
    "warmup_lr_multiplier = model_config['warmup_lr_multiplier']\n",
    "from_logits = model_config['from_logits']"
   ]
  },
  {
   "cell_type": "code",
   "execution_count": 4,
   "id": "50e9a3f0-e180-41f9-a90a-998d7b98737f",
   "metadata": {},
   "outputs": [],
   "source": [
    "os.environ[\"TF_MEMORY_ALLOCATION\"] = model_config['TF_MEMORY_ALLOCATION']  # fraction of free memory\n",
    "os.environ[\"TF_VISIBLE_DEVICE\"] = model_config['TF_VISIBLE_DEVICE'] \n",
    "os.environ['TF_FORCE_GPU_ALLOW_GROWTH'] = model_config['TF_FORCE_GPU_ALLOW_GROWTH']"
   ]
  },
  {
   "cell_type": "code",
   "execution_count": 5,
   "id": "dbf16bb3-4360-4a27-82a0-9318b647e568",
   "metadata": {},
   "outputs": [
    {
     "name": "stderr",
     "output_type": "stream",
     "text": [
      "2022-05-24 00:30:06.208445: I tensorflow/stream_executor/cuda/cuda_gpu_executor.cc:936] successful NUMA node read from SysFS had negative value (-1), but there must be at least one NUMA node, so returning NUMA node zero\n",
      "2022-05-24 00:30:06.209219: I tensorflow/stream_executor/cuda/cuda_gpu_executor.cc:936] successful NUMA node read from SysFS had negative value (-1), but there must be at least one NUMA node, so returning NUMA node zero\n",
      "2022-05-24 00:30:06.209315: I tensorflow/stream_executor/cuda/cuda_gpu_executor.cc:936] successful NUMA node read from SysFS had negative value (-1), but there must be at least one NUMA node, so returning NUMA node zero\n"
     ]
    }
   ],
   "source": [
    "import tensorflow as tf\n",
    "from scripts.cosme_model import COSMELayer\n",
    "from nvtabular.loader.tensorflow import KerasSequenceLoader, KerasSequenceValidater"
   ]
  },
  {
   "cell_type": "code",
   "execution_count": 6,
   "id": "65289a40-aa00-44f6-a98a-3b22856222ee",
   "metadata": {},
   "outputs": [
    {
     "data": {
      "text/plain": [
       "{'clean_fasta_file': '/media/jcosme/Data/MarRef_parquet_10_cats',\n",
       " 'output_dir': '/media/jcosme/Data',\n",
       " 'project_name': 'MarRef_parquet_10_cats',\n",
       " 'base_col_names': ['seq', 'label'],\n",
       " 'label_col_name': 'label',\n",
       " 'input_col_name': 'seq',\n",
       " 'label_regex': '(?:[^a-zA-Z0-9]+)([a-zA-Z]+[0-9]+)(?:[^a-zA-Z0-9]+)',\n",
       " 'k_mer': 1,\n",
       " 'possible_gene_values': ['A', 'C', 'G', 'T'],\n",
       " 'max_seq_len': 150,\n",
       " 'data_splits': {'train': 0.9, 'val': 0.05, 'test': 0.05},\n",
       " 'random_seed': 42,\n",
       " 'fasta_sep': '>',\n",
       " 'unq_labs_dir': '/media/jcosme/Data/MarRef_parquet_10_cats/data/unq_labels',\n",
       " 'unq_labs_dir_csv': '/media/jcosme/Data/MarRef_parquet_10_cats/data/unq_labels.csv',\n",
       " 'data_dir': '/media/jcosme/Data/MarRef_parquet_10_cats/data/MarRef_parquet_10_cats',\n",
       " 'nvtab_dir': '/media/jcosme/Data/MarRef_parquet_10_cats/nvtab',\n",
       " 'dask_dir': '/media/jcosme/Data/MarRef_parquet_10_cats/dask',\n",
       " 'tensorboard_dir': '/media/jcosme/Data/MarRef_parquet_10_cats/tensorboard',\n",
       " 'model_checkpoints_dir': '/media/jcosme/Data/MarRef_parquet_10_cats/checkpoints/model_checkpoints',\n",
       " 'model_checkpoints_parent_dir': '/media/jcosme/Data/MarRef_parquet_10_cats/checkpoints',\n",
       " 'model_weights_dir': '/media/jcosme/Data/MarRef_parquet_10_cats/model_weights.h5'}"
      ]
     },
     "execution_count": 6,
     "metadata": {},
     "output_type": "execute_result"
    }
   ],
   "source": [
    "config = load_data_config()\n",
    "config"
   ]
  },
  {
   "cell_type": "code",
   "execution_count": 7,
   "id": "0340bfa9-c4de-41b2-bc73-18699cd5ab2f",
   "metadata": {},
   "outputs": [],
   "source": [
    "nvtab_dir = config['nvtab_dir']\n",
    "label_col_name = config['label_col_name']\n",
    "input_col_name = config['input_col_name']\n",
    "dask_dir = config['dask_dir']\n",
    "tensorboard_dir = config['tensorboard_dir']\n",
    "model_checkpoints_dir = config['model_checkpoints_dir']\n",
    "model_weights_dir = config['model_weights_dir']\n",
    "max_seq_len = config['max_seq_len']\n",
    "model_checkpoints_parent_dir = config['model_checkpoints_parent_dir']\n",
    "possible_gene_values = config['possible_gene_values']\n",
    "val_split = config['data_splits']['val']"
   ]
  },
  {
   "cell_type": "code",
   "execution_count": 8,
   "id": "c121b7f4-c463-45c6-a06c-9775116cdcc1",
   "metadata": {},
   "outputs": [],
   "source": [
    "if clear_models_dirs:\n",
    "    try:\n",
    "        shutil.rmtree(model_checkpoints_dir)\n",
    "    except:\n",
    "        pass\n",
    "    try:\n",
    "        shutil.rmtree(model_weights_dir)\n",
    "    except:\n",
    "        pass\n",
    "    try:\n",
    "        shutil.rmtree(model_checkpoints_parent_dir)\n",
    "    except:\n",
    "        pass\n",
    "    \n",
    "    \n",
    "if clear_tensorboard: \n",
    "    try:\n",
    "        shutil.rmtree(tensorboard_dir)\n",
    "    except:\n",
    "        pass\n"
   ]
  },
  {
   "cell_type": "code",
   "execution_count": 9,
   "id": "8ac42231-923e-4e92-a94b-d63b94bed15d",
   "metadata": {},
   "outputs": [],
   "source": [
    "n_classes = get_num_of_classes()"
   ]
  },
  {
   "cell_type": "code",
   "execution_count": 10,
   "id": "2c7d58b6-0c6d-4e2c-9c69-e1112a927df4",
   "metadata": {},
   "outputs": [
    {
     "name": "stderr",
     "output_type": "stream",
     "text": [
      "distributed.preloading - INFO - Import preload module: dask_cuda.initialize\n"
     ]
    },
    {
     "data": {
      "text/html": [
       "\n",
       "            <div>\n",
       "                <div style=\"\n",
       "                    width: 24px;\n",
       "                    height: 24px;\n",
       "                    background-color: #e1e1e1;\n",
       "                    border: 3px solid #9D9D9D;\n",
       "                    border-radius: 5px;\n",
       "                    position: absolute;\"> </div>\n",
       "                <div style=\"margin-left: 48px;\">\n",
       "                    <h3 style=\"margin-bottom: 0px;\">Client</h3>\n",
       "                    <p style=\"color: #9D9D9D; margin-bottom: 0px;\">Client-925c153e-db22-11ec-b82e-6520d2f393f5</p>\n",
       "                    <table style=\"width: 100%; text-align: left;\">\n",
       "                    \n",
       "                <tr>\n",
       "                    <td style=\"text-align: left;\"><strong>Connection method:</strong> Cluster object</td>\n",
       "                    <td style=\"text-align: left;\"><strong>Cluster type:</strong> LocalCUDACluster</td>\n",
       "                </tr>\n",
       "                \n",
       "                <tr>\n",
       "                    <td style=\"text-align: left;\">\n",
       "                        <strong>Dashboard: </strong>\n",
       "                        <a href=\"http://127.0.0.1:8787/status\">http://127.0.0.1:8787/status</a>\n",
       "                    </td>\n",
       "                    <td style=\"text-align: left;\"></td>\n",
       "                </tr>\n",
       "                \n",
       "                    </table>\n",
       "                    \n",
       "                <details>\n",
       "                <summary style=\"margin-bottom: 20px;\"><h3 style=\"display: inline;\">Cluster Info</h3></summary>\n",
       "                \n",
       "            <div class=\"jp-RenderedHTMLCommon jp-RenderedHTML jp-mod-trusted jp-OutputArea-output\">\n",
       "                <div style=\"\n",
       "                    width: 24px;\n",
       "                    height: 24px;\n",
       "                    background-color: #e1e1e1;\n",
       "                    border: 3px solid #9D9D9D;\n",
       "                    border-radius: 5px;\n",
       "                    position: absolute;\"> </div>\n",
       "                <div style=\"margin-left: 48px;\">\n",
       "                    <h3 style=\"margin-bottom: 0px; margin-top: 0px;\">LocalCUDACluster</h3>\n",
       "                    <p style=\"color: #9D9D9D; margin-bottom: 0px;\">7a213f98</p>\n",
       "                    <table style=\"width: 100%; text-align: left;\">\n",
       "                    \n",
       "            <tr>\n",
       "                <td style=\"text-align: left;\"><strong>Status:</strong> running</td>\n",
       "                <td style=\"text-align: left;\"><strong>Using processes:</strong> True</td>\n",
       "            </tr>\n",
       "        \n",
       "            <tr>\n",
       "                <td style=\"text-align: left;\">\n",
       "                    <strong>Dashboard:</strong> <a href=\"http://127.0.0.1:8787/status\">http://127.0.0.1:8787/status</a>\n",
       "                </td>\n",
       "                <td style=\"text-align: left;\"><strong>Workers:</strong> 1</td>\n",
       "            </tr>\n",
       "            <tr>\n",
       "                <td style=\"text-align: left;\">\n",
       "                    <strong>Total threads:</strong>\n",
       "                    1\n",
       "                </td>\n",
       "                <td style=\"text-align: left;\">\n",
       "                    <strong>Total memory:</strong>\n",
       "                    31.21 GiB\n",
       "                </td>\n",
       "            </tr>\n",
       "        \n",
       "                    </table>\n",
       "                    <details>\n",
       "                    <summary style=\"margin-bottom: 20px;\"><h3 style=\"display: inline;\">Scheduler Info</h3></summary>\n",
       "                    \n",
       "        <div style=\"\">\n",
       "            \n",
       "            <div>\n",
       "                <div style=\"\n",
       "                    width: 24px;\n",
       "                    height: 24px;\n",
       "                    background-color: #FFF7E5;\n",
       "                    border: 3px solid #FF6132;\n",
       "                    border-radius: 5px;\n",
       "                    position: absolute;\"> </div>\n",
       "                <div style=\"margin-left: 48px;\">\n",
       "                    <h3 style=\"margin-bottom: 0px;\">Scheduler</h3>\n",
       "                    <p style=\"color: #9D9D9D; margin-bottom: 0px;\">Scheduler-5e70a1dc-b703-4e44-a387-6207b0eb3ab5</p>\n",
       "                    <table style=\"width: 100%; text-align: left;\">\n",
       "                        <tr>\n",
       "                            <td style=\"text-align: left;\"><strong>Comm:</strong> tcp://127.0.0.1:34595</td>\n",
       "                            <td style=\"text-align: left;\"><strong>Workers:</strong> 1</td>\n",
       "                        </tr>\n",
       "                        <tr>\n",
       "                            <td style=\"text-align: left;\">\n",
       "                                <strong>Dashboard:</strong> <a href=\"http://127.0.0.1:8787/status\">http://127.0.0.1:8787/status</a>\n",
       "                            </td>\n",
       "                            <td style=\"text-align: left;\">\n",
       "                                <strong>Total threads:</strong>\n",
       "                                1\n",
       "                            </td>\n",
       "                        </tr>\n",
       "                        <tr>\n",
       "                            <td style=\"text-align: left;\">\n",
       "                                <strong>Started:</strong>\n",
       "                                Just now\n",
       "                            </td>\n",
       "                            <td style=\"text-align: left;\">\n",
       "                                <strong>Total memory:</strong>\n",
       "                                31.21 GiB\n",
       "                            </td>\n",
       "                        </tr>\n",
       "                    </table>\n",
       "                </div>\n",
       "            </div>\n",
       "        \n",
       "            <details style=\"margin-left: 48px;\">\n",
       "            <summary style=\"margin-bottom: 20px;\"><h3 style=\"display: inline;\">Workers</h3></summary>\n",
       "            \n",
       "            <div style=\"margin-bottom: 20px;\">\n",
       "                <div style=\"width: 24px;\n",
       "                            height: 24px;\n",
       "                            background-color: #DBF5FF;\n",
       "                            border: 3px solid #4CC9FF;\n",
       "                            border-radius: 5px;\n",
       "                            position: absolute;\"> </div>\n",
       "                <div style=\"margin-left: 48px;\">\n",
       "                <details>\n",
       "                    <summary>\n",
       "                        <h4 style=\"margin-bottom: 0px; display: inline;\">Worker: 0</h4>\n",
       "                    </summary>\n",
       "                    <table style=\"width: 100%; text-align: left;\">\n",
       "                        <tr>\n",
       "                            <td style=\"text-align: left;\"><strong>Comm: </strong> tcp://127.0.0.1:42421</td>\n",
       "                            <td style=\"text-align: left;\"><strong>Total threads: </strong> 1</td>\n",
       "                        </tr>\n",
       "                        <tr>\n",
       "                            <td style=\"text-align: left;\">\n",
       "                                <strong>Dashboard: </strong>\n",
       "                                <a href=\"http://127.0.0.1:35165/status\">http://127.0.0.1:35165/status</a>\n",
       "                            </td>\n",
       "                            <td style=\"text-align: left;\">\n",
       "                                <strong>Memory: </strong>\n",
       "                                31.21 GiB\n",
       "                            </td>\n",
       "                        </tr>\n",
       "                        <tr>\n",
       "                            <td style=\"text-align: left;\"><strong>Nanny: </strong> tcp://127.0.0.1:35779</td>\n",
       "                            <td style=\"text-align: left;\"></td>\n",
       "                        </tr>\n",
       "                        <tr>\n",
       "                            <td colspan=\"2\" style=\"text-align: left;\">\n",
       "                                <strong>Local directory: </strong>\n",
       "                                /media/jcosme/Data/MarRef_parquet_10_cats/nvtab/dask/workdir/dask-worker-space/worker-p2c9n3m2\n",
       "                            </td>\n",
       "                        </tr>\n",
       "                        \n",
       "                <tr>\n",
       "                    <td style=\"text-align: left;\">\n",
       "                        <strong>GPU: </strong>NVIDIA GeForce RTX 3080 Laptop GPU\n",
       "                    </td>\n",
       "                    <td style=\"text-align: left;\">\n",
       "                        <strong>GPU memory: </strong>\n",
       "                        16.00 GiB\n",
       "                    </td>\n",
       "                </tr>\n",
       "                \n",
       "                        \n",
       "                    </table>\n",
       "                </details>\n",
       "                </div>\n",
       "            </div>\n",
       "            \n",
       "            </details>\n",
       "        </div>\n",
       "        \n",
       "                    </details>\n",
       "                </div>\n",
       "            </div>\n",
       "        \n",
       "                </details>\n",
       "                \n",
       "                </div>\n",
       "            </div>\n",
       "        "
      ],
      "text/plain": [
       "<Client: 'tcp://127.0.0.1:34595' processes=1 threads=1, memory=31.21 GiB>"
      ]
     },
     "execution_count": 10,
     "metadata": {},
     "output_type": "execute_result"
    }
   ],
   "source": [
    "# define some information about where to get our data\n",
    "dask_workdir = pathlib.Path(nvtab_dir, \"dask\", \"workdir\")\n",
    "stats_path = pathlib.Path(nvtab_dir, \"dask\", \"stats\")\n",
    "\n",
    "# Make sure we have a clean worker space for Dask\n",
    "if pathlib.Path.is_dir(dask_workdir):\n",
    "    shutil.rmtree(dask_workdir)\n",
    "dask_workdir.mkdir(parents=True)\n",
    "\n",
    "# Make sure we have a clean stats space for Dask\n",
    "if pathlib.Path.is_dir(stats_path):\n",
    "    shutil.rmtree(stats_path)\n",
    "stats_path.mkdir(parents=True)\n",
    "\n",
    "cluster = LocalCUDACluster(\n",
    "    protocol=model_config['protocol'],\n",
    "    CUDA_VISIBLE_DEVICES=model_config['visible_devices'],\n",
    "    device_memory_limit=device_mem_size(kind=\"total\") * model_config['device_spill_frac'],\n",
    "    enable_tcp_over_ucx=model_config['enable_tcp_over_ucx'],\n",
    "    enable_nvlink=model_config['enable_nvlink'],\n",
    "    enable_infiniband=model_config['enable_infiniband'],\n",
    "    # rmm_pool_size=model_config['rmm_pool_size'],\n",
    "    local_directory=dask_workdir,\n",
    ")\n",
    "\n",
    "client = Client(cluster)\n",
    "\n",
    "# def _rmm_pool():\n",
    "#     rmm.reinitialize(\n",
    "#         pool_allocator=True,\n",
    "#         initial_pool_size=None,  # Use default size\n",
    "#     )\n",
    "    \n",
    "# client.run(_rmm_pool)\n",
    "client"
   ]
  },
  {
   "cell_type": "code",
   "execution_count": null,
   "id": "572867da-e2a9-445c-b5a1-8dda78d70eb7",
   "metadata": {},
   "outputs": [],
   "source": []
  },
  {
   "cell_type": "code",
   "execution_count": 11,
   "id": "ffdeafb4-b833-485d-8f55-e9a3d43f2187",
   "metadata": {},
   "outputs": [],
   "source": [
    "TRAIN_PATHS = sorted(glob(f\"{nvtab_dir}/train/*.parquet\"))\n",
    "VAL_PATHS = sorted(glob(f\"{nvtab_dir}/val/*.parquet\"))"
   ]
  },
  {
   "cell_type": "code",
   "execution_count": 12,
   "id": "cc0c52f3-e0a5-40b2-8e12-f6e5f0ee989f",
   "metadata": {},
   "outputs": [
    {
     "name": "stderr",
     "output_type": "stream",
     "text": [
      "/home/jcosme/miniconda3/envs/tf/lib/python3.7/site-packages/nvtabular/io/parquet.py:286: UserWarning: Row group memory size (54347914) (bytes) of parquet file is bigger than requested part_size (10000000) for the NVTabular dataset.A row group memory size of 128 MB is generally recommended. You can find info on how to set the row group size of parquet files in https://nvidia-merlin.github.io/NVTabular/main/resources/troubleshooting.html#setting-the-row-group-size-for-the-parquet-files\n",
      "  f\"Row group memory size ({rg_byte_size_0}) (bytes) of parquet file is bigger\"\n"
     ]
    }
   ],
   "source": [
    "# feed them to our datasets\n",
    "train_dataset = KerasSequenceLoader(\n",
    "    nvt.Dataset(TRAIN_PATHS, part_size=\"10MB\"), # you could also use a glob pattern\n",
    "    batch_size=batch_size,\n",
    "    label_names=[label_col_name],\n",
    "    cat_names=[input_col_name],\n",
    "    shuffle=True,\n",
    "    buffer_size=0.001,  # amount of data, as a fraction of GPU memory, to load at once,\n",
    "    device=0,\n",
    "    parts_per_chunk=1,\n",
    "    engine=\"parquet\",\n",
    ")\n"
   ]
  },
  {
   "cell_type": "code",
   "execution_count": 13,
   "id": "5fa56020-544f-4982-acf1-38c91597e045",
   "metadata": {},
   "outputs": [],
   "source": [
    "valid_dataset = KerasSequenceLoader(\n",
    "    nvt.Dataset(VAL_PATHS, part_size=\"10MB\"),   # you could also use a glob pattern\n",
    "    batch_size=int(batch_size*val_split),\n",
    "    label_names=[label_col_name],\n",
    "    cat_names=[input_col_name],\n",
    "    shuffle=False,\n",
    "    buffer_size=0.001,  # amount of data, as a fraction of GPU memory, to load at once,\n",
    "    device=0,\n",
    "    parts_per_chunk=1,\n",
    "    engine=\"parquet\",\n",
    ")"
   ]
  },
  {
   "cell_type": "code",
   "execution_count": 14,
   "id": "827a8356-116d-4d2d-b9f3-fc124dd0b03e",
   "metadata": {},
   "outputs": [],
   "source": [
    "# batch = next(iter(train_dataset))"
   ]
  },
  {
   "cell_type": "code",
   "execution_count": 15,
   "id": "2547c410-d2c6-4d95-9012-458b1fd34177",
   "metadata": {},
   "outputs": [],
   "source": [
    "# batch[0]"
   ]
  },
  {
   "cell_type": "code",
   "execution_count": 16,
   "id": "c59abed3-55b9-48ce-a457-50a7c1c231b2",
   "metadata": {},
   "outputs": [],
   "source": [
    "inputs = {}\n",
    "inputs[input_col_name] = \\\n",
    "    (tf.keras.Input(name=f\"{input_col_name}__values\", dtype=tf.float32, shape=(1,)),\n",
    "     tf.keras.Input(name=f\"{input_col_name}__nnzs\", dtype=tf.int64, shape=(1,)))"
   ]
  },
  {
   "cell_type": "code",
   "execution_count": null,
   "id": "e88decbe-b8e0-41df-b150-df6966d2b7d3",
   "metadata": {},
   "outputs": [],
   "source": [
    "preproc = tf.keras.layers.Lambda(lambda x: x['seq'][0])(inputs)\n",
    "throw_way = tf.keras.layers.Lambda(lambda x: x['seq'][1])(inputs)\n",
    "shape = [tf.shape(throw_way)[k] for k in range(2)]\n",
    "preproc = tf.reshape(preproc, [shape[0], max_seq_len])\n",
    "preproc = tf.cast(preproc, tf.float32)\n",
    "preproc = tf.expand_dims(preproc, 0)\n",
    "preproc = tf.reshape(preproc, [shape[0], 1, max_seq_len])\n",
    "preproc = tf.math.multiply(preproc, 1/len(possible_gene_values))"
   ]
  },
  {
   "cell_type": "code",
   "execution_count": null,
   "id": "b6552749-622e-4219-ba9b-d2d4d60cff34",
   "metadata": {},
   "outputs": [],
   "source": [
    "cosme_layer = COSMELayer(\n",
    "                preblock_filters=preblock_filters,\n",
    "                preblock_kernel_sizes=preblock_kernel_sizes,\n",
    "                preblock_pool_size=preblock_pool_size,\n",
    "                idblock_kernel_sizes=idblock_kernel_sizes,\n",
    "                idblock_filters = idblock_filters,\n",
    "                idblock_activation=idblock_activation,\n",
    "                idblock_avg_pool_size=idblock_avg_pool_size,\n",
    "                last_activation=last_activation,\n",
    "                n_classes=n_classes,\n",
    "                )\n",
    "output_layer = cosme_layer(preproc)"
   ]
  },
  {
   "cell_type": "code",
   "execution_count": null,
   "id": "563f8f75-165d-4fd9-ba48-d6a75ab03f11",
   "metadata": {},
   "outputs": [],
   "source": [
    "cosme_model = tf.keras.Model(inputs=inputs, outputs=output_layer)"
   ]
  },
  {
   "cell_type": "code",
   "execution_count": null,
   "id": "e0081dbd-eff3-400e-8b1a-173d78cbbcd2",
   "metadata": {},
   "outputs": [],
   "source": [
    "# cosme_model.layers[-1]._name = 'COSMELayer'"
   ]
  },
  {
   "cell_type": "code",
   "execution_count": null,
   "id": "666f5172-98c1-409d-a88a-9a8ebda8901c",
   "metadata": {},
   "outputs": [],
   "source": [
    "optimizer = tf.keras.optimizers.Adam(learning_rate=learn_rate, amsgrad=True)"
   ]
  },
  {
   "cell_type": "code",
   "execution_count": null,
   "id": "88bd2740-8e34-47cd-b889-456c9adf9e01",
   "metadata": {},
   "outputs": [],
   "source": [
    "cosme_model.compile(optimizer, \n",
    "              tf.keras.losses.SparseCategoricalCrossentropy(from_logits=from_logits), \n",
    "              metrics=['sparse_categorical_accuracy'],\n",
    "             )"
   ]
  },
  {
   "cell_type": "code",
   "execution_count": null,
   "id": "4e205b54-1e50-41dc-b97d-98e5882a0beb",
   "metadata": {},
   "outputs": [],
   "source": [
    "validation_callback = KerasSequenceValidater(valid_dataset)"
   ]
  },
  {
   "cell_type": "code",
   "execution_count": null,
   "id": "91c405ca-e558-4880-93dc-a21ef26804c8",
   "metadata": {},
   "outputs": [],
   "source": [
    "earlystopping_cb = tf.keras.callbacks.EarlyStopping(\n",
    "                        monitor='val_loss',\n",
    "                        patience=patience,\n",
    "                        restore_best_weights=True\n",
    "                    )\n",
    "\n",
    "checkpoints_cb = tf.keras.callbacks.ModelCheckpoint(\n",
    "    filepath=model_checkpoints_dir,\n",
    "    save_weights_only=True,\n",
    "    monitor='val_accuracy',\n",
    "   )\n",
    "\n",
    "tensorboard_cb = tf.keras.callbacks.TensorBoard(\n",
    "    log_dir=tensorboard_dir,\n",
    "    histogram_freq=1,\n",
    ")\n",
    "\n",
    "restore_cb = tf.keras.callbacks.BackupAndRestore(backup_dir=model_checkpoints_dir)\n",
    "\n",
    "def lr_scheduler(epoch, lr):\n",
    "    if epoch < num_warmup_epochs:\n",
    "        return learn_rate * warmup_lr_multiplier\n",
    "    else:\n",
    "        return learn_rate \n",
    "    \n",
    "scheduler_cb = tf.keras.callbacks.LearningRateScheduler(lr_scheduler)"
   ]
  },
  {
   "cell_type": "code",
   "execution_count": null,
   "id": "6a632d12-d940-4853-87dc-abd578e3a23e",
   "metadata": {},
   "outputs": [],
   "source": [
    "# history = cosme_model.fit(\n",
    "#     train_dataset,\n",
    "#     epochs=epochs,\n",
    "#     callbacks=[validation_callback]\n",
    "# )"
   ]
  },
  {
   "cell_type": "code",
   "execution_count": null,
   "id": "14847299-f3ce-409d-a186-d171c1aff817",
   "metadata": {},
   "outputs": [],
   "source": [
    "history = cosme_model.fit(\n",
    "    train_dataset,\n",
    "    epochs=epochs,\n",
    "    validation_data=valid_dataset,\n",
    "    callbacks=[ earlystopping_cb, checkpoints_cb, tensorboard_cb, restore_cb, scheduler_cb]\n",
    ")"
   ]
  },
  {
   "cell_type": "code",
   "execution_count": null,
   "id": "8899cc92-86b9-4a56-b47b-ad0f7802e9db",
   "metadata": {},
   "outputs": [],
   "source": [
    "cosme_model.save_weights(model_weights_dir)"
   ]
  },
  {
   "cell_type": "code",
   "execution_count": null,
   "id": "27859b23-552c-4fce-a43e-ee5988a8437d",
   "metadata": {},
   "outputs": [],
   "source": [
    "cosme_model.evaluate(valid_dataset)"
   ]
  },
  {
   "cell_type": "code",
   "execution_count": null,
   "id": "4603406a-66bc-4613-bc42-f0d9cb15d745",
   "metadata": {},
   "outputs": [],
   "source": [
    "cosme_model.evaluate(train_dataset)"
   ]
  },
  {
   "cell_type": "code",
   "execution_count": null,
   "id": "cfe1b9af-d33e-4951-97b6-381e74726435",
   "metadata": {},
   "outputs": [],
   "source": [
    "# cosme_model.predict(valid_dataset).argmax(1)"
   ]
  }
 ],
 "metadata": {
  "kernelspec": {
   "display_name": "tf",
   "language": "python",
   "name": "tf"
  },
  "language_info": {
   "codemirror_mode": {
    "name": "ipython",
    "version": 3
   },
   "file_extension": ".py",
   "mimetype": "text/x-python",
   "name": "python",
   "nbconvert_exporter": "python",
   "pygments_lexer": "ipython3",
   "version": "3.7.12"
  }
 },
 "nbformat": 4,
 "nbformat_minor": 5
}
