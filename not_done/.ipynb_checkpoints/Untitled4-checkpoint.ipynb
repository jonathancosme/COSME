{
 "cells": [
  {
   "cell_type": "code",
   "execution_count": 12,
   "id": "1bc6637f-deef-4c18-bd20-33a671f37a3e",
   "metadata": {},
   "outputs": [],
   "source": [
    "import tensorflow as tf\n",
    "import os\n",
    "import pandas as pd\n",
    "os.environ['TF_FORCE_GPU_ALLOW_GROWTH'] = 'true'\n",
    "\n",
    "from cosme_model import COSMELayer\n",
    "from global_funcs import load_model_config, load_program_config"
   ]
  },
  {
   "cell_type": "code",
   "execution_count": 13,
   "id": "2ef2960d-1c89-44c9-8ff4-f715018c649a",
   "metadata": {},
   "outputs": [
    {
     "data": {
      "text/plain": [
       "{'preblock_filters': 64,\n",
       " 'preblock_kernel_sizes': [3, 5, 7, 9, 11, 13],\n",
       " 'preblock_pool_size': 2,\n",
       " 'idblock_kernel_sizes': [3, 5, 7, 9, 11, 13],\n",
       " 'idblock_filters': [64, 128, 256, 512],\n",
       " 'idblock_activation': 'gelu',\n",
       " 'idblock_avg_pool_size': 2,\n",
       " 'last_activation': 'softmax'}"
      ]
     },
     "execution_count": 13,
     "metadata": {},
     "output_type": "execute_result"
    }
   ],
   "source": [
    "model_config = load_model_config()\n",
    "model_config"
   ]
  },
  {
   "cell_type": "code",
   "execution_count": 14,
   "id": "c728d61f-89f9-4f1c-ab0e-9eb59ef2063c",
   "metadata": {},
   "outputs": [],
   "source": [
    "preblock_filters = model_config['preblock_filters']\n",
    "preblock_kernel_sizes = model_config['preblock_kernel_sizes']\n",
    "preblock_pool_size = model_config['preblock_pool_size']\n",
    "idblock_kernel_sizes = model_config['idblock_kernel_sizes']\n",
    "idblock_filters = model_config['idblock_filters']\n",
    "idblock_activation = model_config['idblock_activation']\n",
    "idblock_avg_pool_size = model_config['idblock_avg_pool_size']\n",
    "last_activation = model_config['last_activation']"
   ]
  },
  {
   "cell_type": "code",
   "execution_count": 15,
   "id": "5f6efe85-4898-443e-8ff1-01ee96e30385",
   "metadata": {},
   "outputs": [
    {
     "data": {
      "text/plain": [
       "int"
      ]
     },
     "execution_count": 15,
     "metadata": {},
     "output_type": "execute_result"
    }
   ],
   "source": [
    "type(idblock_avg_pool_size)"
   ]
  },
  {
   "cell_type": "code",
   "execution_count": 16,
   "id": "7719efe9-2444-4f04-be83-9e10084ce4ee",
   "metadata": {},
   "outputs": [],
   "source": [
    "configs = load_program_config()"
   ]
  },
  {
   "cell_type": "code",
   "execution_count": 17,
   "id": "b3a68ab9-e9d8-47b3-9971-ccccccf92ff7",
   "metadata": {},
   "outputs": [],
   "source": [
    "output_dir = configs['output_dir']\n",
    "project_name = configs['project_name']"
   ]
  },
  {
   "cell_type": "code",
   "execution_count": 18,
   "id": "c87b9905-dc9d-467b-9e1c-bf822a38ca44",
   "metadata": {},
   "outputs": [
    {
     "data": {
      "text/plain": [
       "855"
      ]
     },
     "execution_count": 18,
     "metadata": {},
     "output_type": "execute_result"
    }
   ],
   "source": [
    "n_classes = pd.read_csv(f\"{output_dir}/{project_name}/data/unq_labels.csv\" ).shape[0]\n",
    "n_classes"
   ]
  },
  {
   "cell_type": "code",
   "execution_count": 19,
   "id": "cd3770e5-564a-4262-892c-2fcfd9bc66dc",
   "metadata": {},
   "outputs": [],
   "source": [
    "input_layer = tf.keras.layers.Input(shape=(1,150,), dtype=tf.float32)\n",
    "cosme_layer = COSMELayer(\n",
    "                preblock_filters=preblock_filters,\n",
    "                preblock_kernel_sizes=preblock_kernel_sizes,\n",
    "                preblock_pool_size=preblock_pool_size,\n",
    "                idblock_kernel_sizes=idblock_kernel_sizes,\n",
    "                idblock_filters = idblock_filters,\n",
    "                idblock_activation=idblock_activation,\n",
    "                idblock_avg_pool_size=idblock_avg_pool_size,\n",
    "                last_activation=last_activation,\n",
    "                n_classes=n_classes,\n",
    "                )\n",
    "output_layer = cosme_layer(input_layer)"
   ]
  },
  {
   "cell_type": "code",
   "execution_count": 20,
   "id": "903c82fa-0755-4def-adad-51d0f705be2a",
   "metadata": {},
   "outputs": [],
   "source": [
    "cosme_model = tf.keras.Model(inputs=input_layer, outputs=output_layer)\n",
    "cosme_model.compile(optimizer='adam' , loss = tf.keras.losses.sparse_categorical_crossentropy , metrics=['sparse_categorical_accuracy'])"
   ]
  },
  {
   "cell_type": "code",
   "execution_count": 22,
   "id": "c0f8e691-dc05-4789-a598-5235306a49d2",
   "metadata": {},
   "outputs": [
    {
     "name": "stdout",
     "output_type": "stream",
     "text": [
      "Model: \"model\"\n",
      "_________________________________________________________________\n",
      " Layer (type)                Output Shape              Param #   \n",
      "=================================================================\n",
      " input_2 (InputLayer)        [(None, 1, 150)]          0         \n",
      "                                                                 \n",
      "  (COSMELayer)               (None, 855)               133616343 \n",
      "                                                                 \n",
      "=================================================================\n",
      "Total params: 133,616,343\n",
      "Trainable params: 133,541,847\n",
      "Non-trainable params: 74,496\n",
      "_________________________________________________________________\n"
     ]
    }
   ],
   "source": [
    "cosme_model.summary()"
   ]
  },
  {
   "cell_type": "code",
   "execution_count": null,
   "id": "bc9690c3-3b4e-46a4-ade0-06ac3d871dba",
   "metadata": {},
   "outputs": [],
   "source": []
  }
 ],
 "metadata": {
  "kernelspec": {
   "display_name": "tf",
   "language": "python",
   "name": "tf"
  },
  "language_info": {
   "codemirror_mode": {
    "name": "ipython",
    "version": 3
   },
   "file_extension": ".py",
   "mimetype": "text/x-python",
   "name": "python",
   "nbconvert_exporter": "python",
   "pygments_lexer": "ipython3",
   "version": "3.7.12"
  }
 },
 "nbformat": 4,
 "nbformat_minor": 5
}
