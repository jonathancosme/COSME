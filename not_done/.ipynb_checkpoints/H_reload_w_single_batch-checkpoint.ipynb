{
 "cells": [
  {
   "cell_type": "code",
   "execution_count": 1,
   "id": "e529b245-fdd2-48b5-8c4b-ab97eec6ab63",
   "metadata": {},
   "outputs": [],
   "source": [
    "import sys\n",
    "sys.path.append('..')\n",
    "\n",
    "from scripts.global_funcs import load_data_config, load_model_config, get_num_of_classes\n",
    "from glob import glob\n",
    "import os\n",
    "\n",
    "\n",
    "\n",
    "import nvtabular as nvt\n",
    "import dask_cudf\n",
    "\n",
    "from nvtabular.utils import device_mem_size\n",
    "\n",
    "from dask_cuda import LocalCUDACluster\n",
    "from dask.distributed import Client"
   ]
  },
  {
   "cell_type": "code",
   "execution_count": 2,
   "id": "1c745696-e224-46e6-a1be-3757354d446d",
   "metadata": {},
   "outputs": [
    {
     "data": {
      "text/plain": [
       "{'preblock_filters': 64,\n",
       " 'preblock_kernel_sizes': [3, 5, 7, 9],\n",
       " 'preblock_pool_size': 2,\n",
       " 'idblock_kernel_sizes': [3, 5, 7, 9],\n",
       " 'idblock_filters': [64, 128, 256, 512],\n",
       " 'idblock_activation': 'gelu',\n",
       " 'idblock_avg_pool_size': 2,\n",
       " 'last_activation': 'softmax',\n",
       " 'batch_size': 8192,\n",
       " 'learn_rate': 0.0001,\n",
       " 'epochs': 28,\n",
       " 'patience': 10,\n",
       " 'num_warmup_epochs': 3,\n",
       " 'warmup_lr_multiplier': 0.01,\n",
       " 'TF_MEMORY_ALLOCATION': '0.7',\n",
       " 'TF_VISIBLE_DEVICE': '0',\n",
       " 'TF_FORCE_GPU_ALLOW_GROWTH': 'true',\n",
       " 'device_spill_frac': 0.2,\n",
       " 'protocol': 'ucx',\n",
       " 'visible_devices': '0',\n",
       " 'enable_tcp_over_ucx': True,\n",
       " 'enable_nvlink': False,\n",
       " 'enable_infiniband': False,\n",
       " 'rmm_pool_size': '1GB',\n",
       " 'clear_models_dirs': True,\n",
       " 'clear_tensorboard': True}"
      ]
     },
     "execution_count": 2,
     "metadata": {},
     "output_type": "execute_result"
    }
   ],
   "source": [
    "model_config = load_model_config()\n",
    "model_config"
   ]
  },
  {
   "cell_type": "code",
   "execution_count": 3,
   "id": "56f5d2ea-ebd0-4e6b-9f03-562299aae082",
   "metadata": {},
   "outputs": [],
   "source": [
    "preblock_filters = model_config['preblock_filters']\n",
    "preblock_kernel_sizes = model_config['preblock_kernel_sizes']\n",
    "preblock_pool_size = model_config['preblock_pool_size']\n",
    "idblock_kernel_sizes = model_config['idblock_kernel_sizes']\n",
    "idblock_filters = model_config['idblock_filters']\n",
    "idblock_activation = model_config['idblock_activation']\n",
    "idblock_avg_pool_size = model_config['idblock_avg_pool_size']\n",
    "last_activation = model_config['last_activation']\n",
    "batch_size = model_config['batch_size']\n",
    "# batch_size = 1\n",
    "learn_rate = model_config['learn_rate']\n",
    "epochs = model_config['epochs']\n",
    "patience = model_config['patience']"
   ]
  },
  {
   "cell_type": "code",
   "execution_count": 4,
   "id": "cafb7be2-556e-4e9a-adcb-fceb8f26ed2b",
   "metadata": {},
   "outputs": [],
   "source": [
    "os.environ[\"TF_MEMORY_ALLOCATION\"] = model_config['TF_MEMORY_ALLOCATION']  # fraction of free memory\n",
    "os.environ[\"TF_VISIBLE_DEVICE\"] = model_config['TF_VISIBLE_DEVICE'] \n",
    "os.environ['TF_FORCE_GPU_ALLOW_GROWTH'] = model_config['TF_FORCE_GPU_ALLOW_GROWTH']"
   ]
  },
  {
   "cell_type": "code",
   "execution_count": 5,
   "id": "259e77be-f416-4ef2-828a-d0197664a4fd",
   "metadata": {},
   "outputs": [
    {
     "name": "stderr",
     "output_type": "stream",
     "text": [
      "2022-05-23 15:22:44.402391: I tensorflow/stream_executor/cuda/cuda_gpu_executor.cc:975] successful NUMA node read from SysFS had negative value (-1), but there must be at least one NUMA node, so returning NUMA node zero\n",
      "2022-05-23 15:22:44.402669: I tensorflow/stream_executor/cuda/cuda_gpu_executor.cc:975] successful NUMA node read from SysFS had negative value (-1), but there must be at least one NUMA node, so returning NUMA node zero\n",
      "2022-05-23 15:22:44.402774: I tensorflow/stream_executor/cuda/cuda_gpu_executor.cc:975] successful NUMA node read from SysFS had negative value (-1), but there must be at least one NUMA node, so returning NUMA node zero\n"
     ]
    }
   ],
   "source": [
    "import tensorflow as tf\n",
    "from scripts.cosme_model import COSMELayer\n",
    "from nvtabular.loader.tensorflow import KerasSequenceLoader, KerasSequenceValidater"
   ]
  },
  {
   "cell_type": "code",
   "execution_count": 6,
   "id": "25038b76-9f93-4922-a32d-acc0f82d0681",
   "metadata": {},
   "outputs": [
    {
     "data": {
      "text/plain": [
       "{'clean_fasta_file': '/media/jcosme/Data/MarRef_parquet_10_cats',\n",
       " 'output_dir': '/media/jcosme/Data',\n",
       " 'project_name': 'MarRef_parquet_10_cats',\n",
       " 'base_col_names': ['seq', 'label'],\n",
       " 'label_col_name': 'label',\n",
       " 'input_col_name': 'seq',\n",
       " 'label_regex': '(?:[^a-zA-Z0-9]+)([a-zA-Z]+[0-9]+)(?:[^a-zA-Z0-9]+)',\n",
       " 'k_mer': 1,\n",
       " 'possible_gene_values': ['A', 'C', 'G', 'T'],\n",
       " 'max_seq_len': 150,\n",
       " 'data_splits': {'train': 0.9, 'val': 0.05, 'test': 0.05},\n",
       " 'random_seed': 42,\n",
       " 'fasta_sep': '>',\n",
       " 'unq_labs_dir': '/media/jcosme/Data/MarRef_parquet_10_cats/data/unq_labels',\n",
       " 'unq_labs_dir_csv': '/media/jcosme/Data/MarRef_parquet_10_cats/data/unq_labels.csv',\n",
       " 'data_dir': '/media/jcosme/Data/MarRef_parquet_10_cats/data/MarRef_parquet_10_cats',\n",
       " 'nvtab_dir': '/media/jcosme/Data/MarRef_parquet_10_cats/nvtab',\n",
       " 'dask_dir': '/media/jcosme/Data/MarRef_parquet_10_cats/dask',\n",
       " 'tensorboard_dir': '/media/jcosme/Data/MarRef_parquet_10_cats/tensorboard',\n",
       " 'model_checkpoints_dir': '/media/jcosme/Data/MarRef_parquet_10_cats/checkpoints/model_checkpoints',\n",
       " 'model_checkpoints_parent_dir': '/media/jcosme/Data/MarRef_parquet_10_cats/checkpoints',\n",
       " 'model_weights_dir': '/media/jcosme/Data/MarRef_parquet_10_cats/model_weights.h5'}"
      ]
     },
     "execution_count": 6,
     "metadata": {},
     "output_type": "execute_result"
    }
   ],
   "source": [
    "config = load_data_config()\n",
    "config"
   ]
  },
  {
   "cell_type": "code",
   "execution_count": 7,
   "id": "56fa7a5b-c1d6-4b2e-89d5-766f981c3140",
   "metadata": {},
   "outputs": [],
   "source": [
    "nvtab_dir = config['nvtab_dir']\n",
    "label_col_name = config['label_col_name']\n",
    "input_col_name = config['input_col_name']\n",
    "dask_dir = config['dask_dir']\n",
    "tensorboard_dir = config['tensorboard_dir']\n",
    "model_checkpoints_dir = config['model_checkpoints_dir']\n",
    "model_weights_dir = config['model_weights_dir']\n",
    "max_seq_len = config['max_seq_len']\n",
    "possible_gene_values = config['possible_gene_values']"
   ]
  },
  {
   "cell_type": "code",
   "execution_count": 8,
   "id": "6b1158d7-9ce2-4748-a041-a36acab624c1",
   "metadata": {},
   "outputs": [],
   "source": [
    "n_classes = get_num_of_classes()"
   ]
  },
  {
   "cell_type": "code",
   "execution_count": 9,
   "id": "fc245300-e2ae-4696-b1fb-5a123b468246",
   "metadata": {},
   "outputs": [
    {
     "data": {
      "text/html": [
       "<table style=\"border: 2px solid white;\">\n",
       "<tr>\n",
       "<td style=\"vertical-align: top; border: 0px solid white\">\n",
       "<h3 style=\"text-align: left;\">Client</h3>\n",
       "<ul style=\"text-align: left; list-style: none; margin: 0; padding: 0;\">\n",
       "  <li><b>Scheduler: </b>ucx://127.0.0.1:56309</li>\n",
       "  <li><b>Dashboard: </b><a href='http://127.0.0.1:8787/status' target='_blank'>http://127.0.0.1:8787/status</a></li>\n",
       "</ul>\n",
       "</td>\n",
       "<td style=\"vertical-align: top; border: 0px solid white\">\n",
       "<h3 style=\"text-align: left;\">Cluster</h3>\n",
       "<ul style=\"text-align: left; list-style:none; margin: 0; padding: 0;\">\n",
       "  <li><b>Workers: </b>1</li>\n",
       "  <li><b>Cores: </b>1</li>\n",
       "  <li><b>Memory: </b>31.21 GiB</li>\n",
       "</ul>\n",
       "</td>\n",
       "</tr>\n",
       "</table>"
      ],
      "text/plain": [
       "<Client: 'ucx://127.0.0.1:56309' processes=1 threads=1, memory=31.21 GiB>"
      ]
     },
     "execution_count": 9,
     "metadata": {},
     "output_type": "execute_result"
    }
   ],
   "source": [
    "cluster = LocalCUDACluster(\n",
    "    protocol=model_config['protocol'],\n",
    "    CUDA_VISIBLE_DEVICES=model_config['visible_devices'],\n",
    "    device_memory_limit=device_mem_size(kind=\"total\") * model_config['device_spill_frac'],\n",
    "    enable_tcp_over_ucx=model_config['enable_tcp_over_ucx'],\n",
    "    enable_nvlink=model_config['enable_nvlink'],\n",
    "    enable_infiniband=model_config['enable_infiniband'],\n",
    "    # rmm_pool_size=model_config['rmm_pool_size'],\n",
    "    local_directory=dask_dir,\n",
    ")\n",
    "\n",
    "client = Client(cluster)\n",
    "\n",
    "# def _rmm_pool():\n",
    "#     rmm.reinitialize(\n",
    "#         pool_allocator=True,\n",
    "#         initial_pool_size=None,  # Use default size\n",
    "#     )\n",
    "    \n",
    "# client.run(_rmm_pool)\n",
    "client"
   ]
  },
  {
   "cell_type": "code",
   "execution_count": 10,
   "id": "7c58af5d-6a95-4a29-a7b6-d593e97d7e8a",
   "metadata": {},
   "outputs": [],
   "source": [
    "TEST_PATHS = sorted(glob(f\"{nvtab_dir}/test/*.parquet\"))\n",
    "VAL_PATHS = sorted(glob(f\"{nvtab_dir}/val/*.parquet\"))"
   ]
  },
  {
   "cell_type": "code",
   "execution_count": 11,
   "id": "c98fc07b-422d-427d-ab41-0e0b88134b69",
   "metadata": {},
   "outputs": [],
   "source": [
    "valid_dataset = KerasSequenceLoader(\n",
    "    nvt.Dataset(VAL_PATHS, part_size=\"10MB\"),   # you could also use a glob pattern\n",
    "    batch_size=batch_size,\n",
    "    label_names=[label_col_name],\n",
    "    shuffle=False,\n",
    "    buffer_size=0.001,  # amount of data, as a fraction of GPU memory, to load at once,\n",
    "    device=0,\n",
    "    parts_per_chunk=1,\n",
    "    engine=\"parquet\",\n",
    ")\n",
    "\n",
    "test_dataset = KerasSequenceLoader(\n",
    "    nvt.Dataset(TEST_PATHS, part_size=\"10MB\"),   # you could also use a glob pattern\n",
    "    batch_size=batch_size,\n",
    "    label_names=[label_col_name],\n",
    "    shuffle=False,\n",
    "    buffer_size=0.001,  # amount of data, as a fraction of GPU memory, to load at once,\n",
    "    device=0,\n",
    "    parts_per_chunk=1,\n",
    "    engine=\"parquet\",\n",
    ")"
   ]
  },
  {
   "cell_type": "code",
   "execution_count": 12,
   "id": "3b390db4-782b-4f18-8e8a-1c1baf3827ba",
   "metadata": {},
   "outputs": [
    {
     "name": "stderr",
     "output_type": "stream",
     "text": [
      "2022-05-23 15:22:47.294886: I tensorflow/core/platform/cpu_feature_guard.cc:193] This TensorFlow binary is optimized with oneAPI Deep Neural Network Library (oneDNN) to use the following CPU instructions in performance-critical operations:  AVX2 FMA\n",
      "To enable them in other operations, rebuild TensorFlow with the appropriate compiler flags.\n",
      "2022-05-23 15:22:47.295529: I tensorflow/stream_executor/cuda/cuda_gpu_executor.cc:975] successful NUMA node read from SysFS had negative value (-1), but there must be at least one NUMA node, so returning NUMA node zero\n",
      "2022-05-23 15:22:47.295796: I tensorflow/stream_executor/cuda/cuda_gpu_executor.cc:975] successful NUMA node read from SysFS had negative value (-1), but there must be at least one NUMA node, so returning NUMA node zero\n",
      "2022-05-23 15:22:47.295891: I tensorflow/stream_executor/cuda/cuda_gpu_executor.cc:975] successful NUMA node read from SysFS had negative value (-1), but there must be at least one NUMA node, so returning NUMA node zero\n",
      "2022-05-23 15:22:47.296134: I tensorflow/stream_executor/cuda/cuda_gpu_executor.cc:975] successful NUMA node read from SysFS had negative value (-1), but there must be at least one NUMA node, so returning NUMA node zero\n",
      "2022-05-23 15:22:47.296374: I tensorflow/stream_executor/cuda/cuda_gpu_executor.cc:975] successful NUMA node read from SysFS had negative value (-1), but there must be at least one NUMA node, so returning NUMA node zero\n",
      "2022-05-23 15:22:47.296469: I tensorflow/stream_executor/cuda/cuda_gpu_executor.cc:975] successful NUMA node read from SysFS had negative value (-1), but there must be at least one NUMA node, so returning NUMA node zero\n",
      "2022-05-23 15:22:47.296541: W tensorflow/core/common_runtime/gpu/gpu_bfc_allocator.cc:42] Overriding orig_value setting because the TF_FORCE_GPU_ALLOW_GROWTH environment variable is set. Original config value was 0.\n",
      "2022-05-23 15:22:47.296558: I tensorflow/core/common_runtime/gpu/gpu_device.cc:1532] Created device /job:localhost/replica:0/task:0/device:GPU:0 with 11468 MB memory:  -> device: 0, name: NVIDIA GeForce RTX 3080 Laptop GPU, pci bus id: 0000:01:00.0, compute capability: 8.6\n"
     ]
    }
   ],
   "source": [
    "inputs = {}\n",
    "inputs[input_col_name] = \\\n",
    "    (tf.keras.Input(name=f\"{input_col_name}__values\", dtype=tf.int64, shape=(1,)),\n",
    "     tf.keras.Input(name=f\"{input_col_name}__nnzs\", dtype=tf.int32, shape=(1,)))\n",
    "\n",
    "inputs2 = tf.keras.layers.Lambda(lambda x: x['seq'][0])(inputs)\n",
    "throw_way = tf.keras.layers.Lambda(lambda x: x['seq'][1])(inputs)\n",
    "shape = [tf.shape(throw_way)[k] for k in range(2)]\n",
    "inputs2 = tf.reshape(inputs2, [shape[0], 150])\n",
    "inputs2 = tf.cast(inputs2, tf.float32)\n",
    "inputs2 = tf.expand_dims(inputs2, 0)\n",
    "inputs2 = tf.reshape(inputs2, [shape[0], 1, max_seq_len])\n",
    "inputs2 = tf.math.multiply(inputs2, 1/len(possible_gene_values))"
   ]
  },
  {
   "cell_type": "code",
   "execution_count": 13,
   "id": "6b8d366d-9ad0-4840-8c90-6ebd25defcb1",
   "metadata": {},
   "outputs": [],
   "source": [
    "cosme_layer = COSMELayer(\n",
    "                preblock_filters=preblock_filters,\n",
    "                preblock_kernel_sizes=preblock_kernel_sizes,\n",
    "                preblock_pool_size=preblock_pool_size,\n",
    "                idblock_kernel_sizes=idblock_kernel_sizes,\n",
    "                idblock_filters = idblock_filters,\n",
    "                idblock_activation=idblock_activation,\n",
    "                idblock_avg_pool_size=idblock_avg_pool_size,\n",
    "                last_activation=last_activation,\n",
    "                n_classes=n_classes,\n",
    "                )\n",
    "output_layer = cosme_layer(inputs2)"
   ]
  },
  {
   "cell_type": "code",
   "execution_count": 14,
   "id": "f1ea803a-12ee-4b3c-8fb8-de2954057df5",
   "metadata": {},
   "outputs": [],
   "source": [
    "cosme_model = tf.keras.Model(inputs=inputs, outputs=output_layer)\n",
    "optimizer = tf.keras.optimizers.Adam(learning_rate=learn_rate, amsgrad=True)\n",
    "cosme_model.compile(optimizer, \n",
    "              tf.keras.losses.SparseCategoricalCrossentropy(from_logits=False), \n",
    "              metrics=['sparse_categorical_accuracy'],\n",
    "             )"
   ]
  },
  {
   "cell_type": "code",
   "execution_count": 15,
   "id": "c17680cb-1936-4eff-b9a0-8765d56e991f",
   "metadata": {},
   "outputs": [],
   "source": [
    "cosme_model.load_weights(model_weights_dir)"
   ]
  },
  {
   "cell_type": "code",
   "execution_count": 16,
   "id": "8a8c8075-308c-4370-9ed5-976741420903",
   "metadata": {},
   "outputs": [],
   "source": [
    "cosme_model.trainable = False"
   ]
  },
  {
   "cell_type": "code",
   "execution_count": 17,
   "id": "e99ce00d-7539-4a27-95ba-7ba69f67f021",
   "metadata": {},
   "outputs": [
    {
     "name": "stderr",
     "output_type": "stream",
     "text": [
      "2022-05-23 15:22:55.022838: I tensorflow/stream_executor/cuda/cuda_dnn.cc:384] Loaded cuDNN version 8201\n",
      "2022-05-23 15:22:55.630606: I tensorflow/core/platform/default/subprocess.cc:304] Start cannot spawn child process: No such file or directory\n"
     ]
    },
    {
     "name": "stdout",
     "output_type": "stream",
     "text": [
      "1/1 [==============================] - 7s 7s/step - loss: 2.1667 - sparse_categorical_accuracy: 0.2397\n"
     ]
    },
    {
     "name": "stderr",
     "output_type": "stream",
     "text": [
      "2022-05-23 15:22:57.062114: I tensorflow/stream_executor/cuda/cuda_blas.cc:1786] TensorFloat-32 will be used for the matrix multiplication. This will only be logged once.\n"
     ]
    },
    {
     "data": {
      "text/plain": [
       "[2.166696071624756, 0.23971128463745117]"
      ]
     },
     "execution_count": 17,
     "metadata": {},
     "output_type": "execute_result"
    }
   ],
   "source": [
    "cosme_model.evaluate(test_dataset)"
   ]
  },
  {
   "cell_type": "code",
   "execution_count": 18,
   "id": "6a31c792-9ba3-4461-af64-dc82a06c0bb3",
   "metadata": {},
   "outputs": [
    {
     "name": "stdout",
     "output_type": "stream",
     "text": [
      "1/1 [==============================] - 1s 1s/step - loss: 2.1801 - sparse_categorical_accuracy: 0.2494\n"
     ]
    },
    {
     "data": {
      "text/plain": [
       "[2.1800763607025146, 0.24940048158168793]"
      ]
     },
     "execution_count": 18,
     "metadata": {},
     "output_type": "execute_result"
    }
   ],
   "source": [
    "cosme_model.evaluate(valid_dataset)"
   ]
  },
  {
   "cell_type": "code",
   "execution_count": null,
   "id": "6e456595-0036-47b9-ba2e-1b6577d6f44e",
   "metadata": {},
   "outputs": [],
   "source": []
  }
 ],
 "metadata": {
  "kernelspec": {
   "display_name": "tf",
   "language": "python",
   "name": "tf"
  },
  "language_info": {
   "codemirror_mode": {
    "name": "ipython",
    "version": 3
   },
   "file_extension": ".py",
   "mimetype": "text/x-python",
   "name": "python",
   "nbconvert_exporter": "python",
   "pygments_lexer": "ipython3",
   "version": "3.7.12"
  }
 },
 "nbformat": 4,
 "nbformat_minor": 5
}
