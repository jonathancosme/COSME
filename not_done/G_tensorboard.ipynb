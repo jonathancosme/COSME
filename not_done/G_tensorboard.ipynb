{
 "cells": [
  {
   "cell_type": "code",
   "execution_count": 7,
   "id": "5174060e-9845-4109-a68b-e09d0c31744d",
   "metadata": {},
   "outputs": [],
   "source": [
    "import sys\n",
    "sys.path.append('..')\n",
    "\n",
    "from scripts.global_funcs import load_data_config, load_model_config\n",
    "import os\n",
    "import tensorflow as tf\n"
   ]
  },
  {
   "cell_type": "code",
   "execution_count": 8,
   "id": "5d0099c7-fe29-48c5-8c87-79f38b23c9db",
   "metadata": {},
   "outputs": [
    {
     "data": {
      "text/plain": [
       "{'clean_fasta_file': '/media/jcosme/Data/MarRef_parquet_10_cats',\n",
       " 'output_dir': '/media/jcosme/Data',\n",
       " 'project_name': 'MarRef_parquet_10_cats',\n",
       " 'base_col_names': ['seq', 'label'],\n",
       " 'label_col_name': 'label',\n",
       " 'input_col_name': 'seq',\n",
       " 'label_regex': '(?:[^a-zA-Z0-9]+)([a-zA-Z]+[0-9]+)(?:[^a-zA-Z0-9]+)',\n",
       " 'k_mer': 1,\n",
       " 'possible_gene_values': ['A', 'C', 'G', 'T'],\n",
       " 'max_seq_len': 150,\n",
       " 'data_splits': {'train': 0.9, 'val': 0.05, 'test': 0.05},\n",
       " 'random_seed': 42,\n",
       " 'fasta_sep': '>',\n",
       " 'unq_labs_dir': '/media/jcosme/Data/MarRef_parquet_10_cats/data/unq_labels',\n",
       " 'unq_labs_dir_csv': '/media/jcosme/Data/MarRef_parquet_10_cats/data/unq_labels.csv',\n",
       " 'data_dir': '/media/jcosme/Data/MarRef_parquet_10_cats/data/MarRef_parquet_10_cats',\n",
       " 'nvtab_dir': '/media/jcosme/Data/MarRef_parquet_10_cats/nvtab',\n",
       " 'dask_dir': '/media/jcosme/Data/MarRef_parquet_10_cats/dask',\n",
       " 'tensorboard_dir': '/media/jcosme/Data/MarRef_parquet_10_cats/tensorboard',\n",
       " 'model_checkpoints_dir': '/media/jcosme/Data/MarRef_parquet_10_cats/model_checkpoints',\n",
       " 'model_weights_dir': '/media/jcosme/Data/MarRef_parquet_10_cats/model_weights.h5'}"
      ]
     },
     "execution_count": 8,
     "metadata": {},
     "output_type": "execute_result"
    }
   ],
   "source": [
    "config = load_data_config()\n",
    "config"
   ]
  },
  {
   "cell_type": "code",
   "execution_count": 9,
   "id": "90707dae-5339-4eb7-968e-a9cbb795b887",
   "metadata": {},
   "outputs": [
    {
     "data": {
      "text/plain": [
       "'/media/jcosme/Data/MarRef_parquet_10_cats/tensorboard'"
      ]
     },
     "execution_count": 9,
     "metadata": {},
     "output_type": "execute_result"
    }
   ],
   "source": [
    "tensorboard_dir = config['tensorboard_dir']\n",
    "tensorboard_dir"
   ]
  },
  {
   "cell_type": "code",
   "execution_count": 10,
   "id": "955739f5-31a0-4d05-851b-cc47d3d795ca",
   "metadata": {},
   "outputs": [
    {
     "name": "stdout",
     "output_type": "stream",
     "text": [
      "The tensorboard extension is already loaded. To reload it, use:\n",
      "  %reload_ext tensorboard\n"
     ]
    }
   ],
   "source": [
    "%load_ext tensorboard"
   ]
  },
  {
   "cell_type": "code",
   "execution_count": 11,
   "id": "fb509c0b-9775-44e5-961c-43cfb680dd4b",
   "metadata": {},
   "outputs": [],
   "source": [
    "os.environ['TENSORBOARD_BINARY'] = '/home/jcosme/miniconda3/envs/tf/bin/tensorboard'"
   ]
  },
  {
   "cell_type": "code",
   "execution_count": 13,
   "id": "f706f4d0-eb33-46e7-bc19-4b00c4a9096b",
   "metadata": {},
   "outputs": [
    {
     "data": {
      "text/html": [
       "\n",
       "      <iframe id=\"tensorboard-frame-5a4038700e0a26ba\" width=\"100%\" height=\"800\" frameborder=\"0\">\n",
       "      </iframe>\n",
       "      <script>\n",
       "        (function() {\n",
       "          const frame = document.getElementById(\"tensorboard-frame-5a4038700e0a26ba\");\n",
       "          const url = new URL(\"/\", window.location);\n",
       "          const port = 6007;\n",
       "          if (port) {\n",
       "            url.port = port;\n",
       "          }\n",
       "          frame.src = url;\n",
       "        })();\n",
       "      </script>\n",
       "    "
      ],
      "text/plain": [
       "<IPython.core.display.HTML object>"
      ]
     },
     "metadata": {},
     "output_type": "display_data"
    }
   ],
   "source": [
    "%tensorboard --logdir $tensorboard_dir"
   ]
  },
  {
   "cell_type": "code",
   "execution_count": null,
   "id": "44247ce9-eb7b-41be-8a02-be54c6ae97d2",
   "metadata": {},
   "outputs": [],
   "source": []
  }
 ],
 "metadata": {
  "kernelspec": {
   "display_name": "tf",
   "language": "python",
   "name": "tf"
  },
  "language_info": {
   "codemirror_mode": {
    "name": "ipython",
    "version": 3
   },
   "file_extension": ".py",
   "mimetype": "text/x-python",
   "name": "python",
   "nbconvert_exporter": "python",
   "pygments_lexer": "ipython3",
   "version": "3.7.12"
  }
 },
 "nbformat": 4,
 "nbformat_minor": 5
}
