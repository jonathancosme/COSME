{
 "cells": [
  {
   "cell_type": "code",
   "execution_count": 1,
   "id": "c5d96fd4-1546-428e-9c36-5c085adadf0b",
   "metadata": {},
   "outputs": [],
   "source": [
    "from global_funcs import load_program_config\n",
    "# Standard Libraries\n",
    "import shutil\n",
    "import pathlib\n",
    "\n",
    "# External Dependencies\n",
    "import cupy as cp\n",
    "import numpy as np\n",
    "import cudf\n",
    "import dask_cudf\n",
    "from dask_cuda import LocalCUDACluster\n",
    "from dask.distributed import Client\n",
    "from dask.utils import parse_bytes\n",
    "from dask.delayed import delayed\n",
    "import rmm\n",
    "\n",
    "# NVTabular\n",
    "import nvtabular as nvt\n",
    "import nvtabular.ops as ops\n",
    "from nvtabular.io import Shuffle\n",
    "from nvtabular.utils import device_mem_size\n"
   ]
  },
  {
   "cell_type": "code",
   "execution_count": 2,
   "id": "4949fa1e-998a-4ac5-9d8e-ee46d4f45af1",
   "metadata": {},
   "outputs": [
    {
     "name": "stdout",
     "output_type": "stream",
     "text": [
      "loading configs...\n"
     ]
    }
   ],
   "source": [
    "print(\"loading configs...\")\n",
    "configs = load_program_config()"
   ]
  },
  {
   "cell_type": "code",
   "execution_count": 3,
   "id": "8325f9a4-4381-4512-a0f8-c9c0e559a30f",
   "metadata": {},
   "outputs": [
    {
     "name": "stdout",
     "output_type": "stream",
     "text": [
      "setting variables...\n"
     ]
    }
   ],
   "source": [
    "print(\"setting variables...\")\n",
    "output_dir = configs['output_dir']\n",
    "project_name = configs['project_name']\n",
    "input_col_name = configs['input_col_name']\n",
    "label_col_name = configs['label_col_name']\n",
    "random_seed = configs['random_seed']\n",
    "data_splits = configs['data_splits']\n",
    "base_col_names = configs['base_col_names']"
   ]
  },
  {
   "cell_type": "code",
   "execution_count": 4,
   "id": "d2b58bac-5b38-4a66-a209-4d5abfa5664d",
   "metadata": {},
   "outputs": [],
   "source": [
    "base_in_pathname = f\"{output_dir}/{project_name}/data/{project_name}\"\n",
    "base_out_pathname = f\"{output_dir}/{project_name}/nvtab\""
   ]
  },
  {
   "cell_type": "code",
   "execution_count": 5,
   "id": "6407ae43-fcfe-4a67-ac72-ee4348dd1413",
   "metadata": {},
   "outputs": [],
   "source": [
    "dict_dtypes = {}\n",
    "dict_dtypes[input_col_name] = np.int64\n",
    "dict_dtypes[label_col_name] = np.float32"
   ]
  },
  {
   "cell_type": "code",
   "execution_count": 6,
   "id": "110c2952-8b89-4071-9d23-8ae6876952ef",
   "metadata": {},
   "outputs": [],
   "source": [
    "# define some information about where to get our data\n",
    "dask_workdir = pathlib.Path(base_out_pathname, \"dask\", \"workdir\")\n",
    "stats_path = pathlib.Path(base_out_pathname, \"dask\", \"stats\")\n",
    "\n",
    "# Make sure we have a clean worker space for Dask\n",
    "if pathlib.Path.is_dir(dask_workdir):\n",
    "    shutil.rmtree(dask_workdir)\n",
    "dask_workdir.mkdir(parents=True)\n",
    "\n",
    "# Make sure we have a clean stats space for Dask\n",
    "if pathlib.Path.is_dir(stats_path):\n",
    "    shutil.rmtree(stats_path)\n",
    "stats_path.mkdir(parents=True)\n",
    "\n",
    "# Get device memory capacity\n",
    "capacity = device_mem_size(kind=\"total\")"
   ]
  },
  {
   "cell_type": "code",
   "execution_count": 7,
   "id": "0a13cdac-c1d3-4672-a6a9-fad8dcbc56c3",
   "metadata": {},
   "outputs": [
    {
     "data": {
      "text/html": [
       "<table style=\"border: 2px solid white;\">\n",
       "<tr>\n",
       "<td style=\"vertical-align: top; border: 0px solid white\">\n",
       "<h3 style=\"text-align: left;\">Client</h3>\n",
       "<ul style=\"text-align: left; list-style: none; margin: 0; padding: 0;\">\n",
       "  <li><b>Scheduler: </b>tcp://127.0.0.1:42453</li>\n",
       "  <li><b>Dashboard: </b><a href='http://127.0.0.1:8787/status' target='_blank'>http://127.0.0.1:8787/status</a></li>\n",
       "</ul>\n",
       "</td>\n",
       "<td style=\"vertical-align: top; border: 0px solid white\">\n",
       "<h3 style=\"text-align: left;\">Cluster</h3>\n",
       "<ul style=\"text-align: left; list-style:none; margin: 0; padding: 0;\">\n",
       "  <li><b>Workers: </b>1</li>\n",
       "  <li><b>Cores: </b>1</li>\n",
       "  <li><b>Memory: </b>31.21 GiB</li>\n",
       "</ul>\n",
       "</td>\n",
       "</tr>\n",
       "</table>"
      ],
      "text/plain": [
       "<Client: 'tcp://127.0.0.1:42453' processes=1 threads=1, memory=31.21 GiB>"
      ]
     },
     "execution_count": 7,
     "metadata": {},
     "output_type": "execute_result"
    }
   ],
   "source": [
    "\n",
    "# Deploy a Single-Machine Multi-GPU Cluster\n",
    "protocol = \"tcp\"  # \"tcp\" or \"ucx\"\n",
    "visible_devices = \"0\"  # Delect devices to place workers\n",
    "device_spill_frac = 0.5  # Spill GPU-Worker memory to host at this limit.\n",
    "# Reduce if spilling fails to prevent\n",
    "# device memory errors.\n",
    "cluster = None  # (Optional) Specify existing scheduler port\n",
    "if cluster is None:\n",
    "    cluster = LocalCUDACluster(\n",
    "        protocol=protocol,\n",
    "        CUDA_VISIBLE_DEVICES=visible_devices,\n",
    "        local_directory=dask_workdir,\n",
    "        device_memory_limit=capacity * device_spill_frac,\n",
    "    )\n",
    "\n",
    "# Create the distributed client\n",
    "client = Client(cluster)\n",
    "client"
   ]
  },
  {
   "cell_type": "code",
   "execution_count": 8,
   "id": "22c0d158-272b-4d7d-863b-47488ac364fa",
   "metadata": {},
   "outputs": [
    {
     "data": {
      "text/plain": [
       "{'tcp://127.0.0.1:36905': None}"
      ]
     },
     "execution_count": 8,
     "metadata": {},
     "output_type": "execute_result"
    }
   ],
   "source": [
    "# Initialize RMM pool on ALL workers\n",
    "def _rmm_pool():\n",
    "    rmm.reinitialize(\n",
    "        pool_allocator=True,\n",
    "        initial_pool_size=None,  # Use default size\n",
    "    )\n",
    "\n",
    "\n",
    "client.run(_rmm_pool)"
   ]
  },
  {
   "cell_type": "code",
   "execution_count": 9,
   "id": "8210a8da-f40b-4cba-99c0-29d0ba853a2a",
   "metadata": {},
   "outputs": [],
   "source": [
    "cat_features = [input_col_name] >> nvt.ops.Categorify() >>  ops.ListSlice(start=0, end=150, pad=True, pad_value=0)\n",
    "# labels = [label_col_name] >> nvt.ops.Categorify()\n",
    "output = cat_features + label_col_name\n"
   ]
  },
  {
   "cell_type": "code",
   "execution_count": 10,
   "id": "19e77c35-f40f-4675-99d8-ff4bcd439acf",
   "metadata": {},
   "outputs": [
    {
     "data": {
      "text/plain": [
       "'1.1.1'"
      ]
     },
     "execution_count": 10,
     "metadata": {},
     "output_type": "execute_result"
    }
   ],
   "source": [
    "nvt.__version__"
   ]
  },
  {
   "cell_type": "code",
   "execution_count": 11,
   "id": "6cf46646-efa0-4212-86f4-e690e4ac13eb",
   "metadata": {},
   "outputs": [],
   "source": [
    "workflow = nvt.Workflow(output)"
   ]
  },
  {
   "cell_type": "code",
   "execution_count": 12,
   "id": "90344d07-e676-4ef2-aebc-c111ecbb3734",
   "metadata": {},
   "outputs": [],
   "source": [
    "# [input_col_name]  >> (lambda col: nvt.ops.Categorify(dtype=np.int64))"
   ]
  },
  {
   "cell_type": "code",
   "execution_count": 13,
   "id": "7f703805-03bb-4703-975e-9ee2a961fa6e",
   "metadata": {},
   "outputs": [],
   "source": [
    "shuffle= nvt.io.Shuffle.PER_PARTITION"
   ]
  },
  {
   "cell_type": "code",
   "execution_count": 14,
   "id": "b941374d-20fd-4531-b89f-daf49470ae37",
   "metadata": {},
   "outputs": [],
   "source": [
    "\n",
    "\n",
    "# all_data = dask_cudf.read_parquet(base_in_pathname)\n",
    "# all_iter = nvt.Dataset(all_data, part_size=\"100MB\", engine='parquet')\n",
    "# workflow.fit(all_iter)"
   ]
  },
  {
   "cell_type": "code",
   "execution_count": 15,
   "id": "f3465ad2-6ce1-48e8-b8ce-9c90ea546441",
   "metadata": {},
   "outputs": [
    {
     "data": {
      "text/plain": [
       "<nvtabular.workflow.workflow.Workflow at 0x7f8d818ff090>"
      ]
     },
     "execution_count": 15,
     "metadata": {},
     "output_type": "execute_result"
    }
   ],
   "source": [
    "# cat_features = [input_col_name] >> nvt.ops.Categorify() >>  ops.ListSlice(start=0, end=150, pad=True, pad_value=0)\n",
    "# output = cat_features + label_col_name\n",
    "# workflow = nvt.Workflow(output)\n",
    "workflow.fit(nvt.Dataset(f\"{base_in_pathname}_train\", engine='parquet'))\n",
    "# workflow.transform(nvt.Dataset(f\"{base_in_pathname}_train\", engine='parquet')).to_parquet(output_path=f\"{base_out_pathname}/train\")\n",
    "# del workflow"
   ]
  },
  {
   "cell_type": "code",
   "execution_count": 16,
   "id": "adfbfd69-64f9-4214-be8a-6a24d2e27f73",
   "metadata": {},
   "outputs": [],
   "source": [
    "# cat_features = [input_col_name] >> nvt.ops.Categorify() >>  ops.ListSlice(start=0, end=150, pad=True, pad_value=0)\n",
    "# output = cat_features + label_col_name\n",
    "# workflow = nvt.Workflow(output)\n",
    "# workflow.fit(nvt.Dataset(f\"{base_in_pathname}_val\", engine='parquet'))\n",
    "# # workflow.transform(nvt.Dataset(f\"{base_in_pathname}_val\", engine='parquet')).to_parquet(output_path=f\"{base_out_pathname}/val\")\n",
    "# # del workflow"
   ]
  },
  {
   "cell_type": "code",
   "execution_count": 17,
   "id": "ab25b308-a3cf-499f-9bf8-5a7171f76b9f",
   "metadata": {},
   "outputs": [],
   "source": [
    "# cat_features = [input_col_name] >> nvt.ops.Categorify() >>  ops.ListSlice(start=0, end=150, pad=True, pad_value=0)\n",
    "# output = cat_features + label_col_name\n",
    "# workflow = nvt.Workflow(output)\n",
    "# workflow.fit(nvt.Dataset(f\"{base_in_pathname}_test\", engine='parquet'))\n",
    "# # workflow.transform(nvt.Dataset(f\"{base_in_pathname}_test\", engine='parquet')).to_parquet(output_path=f\"{base_out_pathname}/test\")\n",
    "# # del workflow"
   ]
  },
  {
   "cell_type": "code",
   "execution_count": 18,
   "id": "a057aef8-9d1c-4cf4-80db-90eb70bc7e53",
   "metadata": {},
   "outputs": [],
   "source": [
    "# workflow.fit(merlin.io.Dataset(TRAIN_PATH))"
   ]
  },
  {
   "cell_type": "code",
   "execution_count": 19,
   "id": "fee121ff-d88f-4f99-ba9c-27eb636f2bac",
   "metadata": {},
   "outputs": [],
   "source": [
    "# # workflow = nvt.Workflow(output)\n",
    "\n",
    "# train_data = dask_cudf.read_parquet(f\"{base_in_pathname}_train\")\n",
    "# train_iter = nvt.Dataset(train_data, part_size=\"100MB\", engine='parquet')\n",
    "# # workflow.fit(train_iter)\n",
    "\n",
    "# workflow.transform(train_iter).to_parquet(\n",
    "#     output_path=f\"{base_out_pathname}/train\",\n",
    "#     shuffle=shuffle,\n",
    "#     # out_files_per_proc=out_files_per_proc,\n",
    "#     cats=[input_col_name],\n",
    "#     labels=[label_col_name],\n",
    "# )"
   ]
  },
  {
   "cell_type": "code",
   "execution_count": 20,
   "id": "172d5c99-6c63-4959-8c44-3d25e97b372b",
   "metadata": {},
   "outputs": [],
   "source": [
    "# # workflow = nvt.Workflow(output)\n",
    "\n",
    "# val_data = dask_cudf.read_parquet(f\"{base_in_pathname}_val\")\n",
    "# valid_iter = nvt.Dataset(val_data, part_size=\"100MB\", engine='parquet')\n",
    "# # workflow.fit(valid_iter)\n",
    "\n",
    "# workflow.transform(valid_iter).to_parquet(\n",
    "#     output_path=f\"{base_out_pathname}/val\",\n",
    "#     # shuffle=shuffle,\n",
    "#     # out_files_per_proc=out_files_per_proc,\n",
    "#     cats=[input_col_name],\n",
    "#     labels=[label_col_name],\n",
    "# )"
   ]
  },
  {
   "cell_type": "code",
   "execution_count": 21,
   "id": "d7f9dc24-3f21-4089-87c2-fb9e84d4dee5",
   "metadata": {},
   "outputs": [],
   "source": [
    "# # workflow = nvt.Workflow(output)\n",
    "\n",
    "# test_data = dask_cudf.read_parquet(f\"{base_in_pathname}_test\")\n",
    "# test_iter = nvt.Dataset(test_data, part_size=\"100MB\", engine='parquet')\n",
    "# # workflow.fit(test_iter)\n",
    "\n",
    "# workflow.transform(test_iter).to_parquet(\n",
    "#     output_path=f\"{base_out_pathname}/test\",\n",
    "#     # shuffle=shuffle,\n",
    "#     # out_files_per_proc=out_files_per_proc,\n",
    "#     cats=[input_col_name],\n",
    "#     labels=[label_col_name],\n",
    "# )"
   ]
  },
  {
   "cell_type": "code",
   "execution_count": 22,
   "id": "b35ec098-cafb-4472-90be-1b04362e6951",
   "metadata": {},
   "outputs": [],
   "source": [
    "# all_data = dask_cudf.read_parquet(base_in_pathname)\n",
    "# all_iter = nvt.Dataset(all_data, part_size=\"100MB\", engine='parquet')\n",
    "# workflow.fit(all_iter)"
   ]
  },
  {
   "cell_type": "code",
   "execution_count": 23,
   "id": "ec508e21-f902-4d70-b3ad-d11446a943b7",
   "metadata": {},
   "outputs": [],
   "source": [
    "# train_data = dask_cudf.read_parquet(f\"{base_in_pathname}_train\")\n",
    "# train_iter = nvt.Dataset(train_data, part_size=\"100MB\", engine='parquet')\n",
    "# val_data = dask_cudf.read_parquet(f\"{base_in_pathname}_val\")\n",
    "# valid_iter = nvt.Dataset(val_data, part_size=\"100MB\", engine='parquet')\n",
    "# test_data = dask_cudf.read_parquet(f\"{base_in_pathname}_test\")\n",
    "# test_iter = nvt.Dataset(test_data, part_size=\"100MB\", engine='parquet')"
   ]
  },
  {
   "cell_type": "code",
   "execution_count": 24,
   "id": "784ee21a-012f-464e-a999-2ad4b65b31cc",
   "metadata": {},
   "outputs": [],
   "source": [
    "# shuffle = Shuffle.PER_WORKER"
   ]
  },
  {
   "cell_type": "code",
   "execution_count": 25,
   "id": "1c6d175a-7109-4bcc-9647-c78262dd4a9e",
   "metadata": {},
   "outputs": [],
   "source": [
    "# out_files_per_proc = 4"
   ]
  },
  {
   "cell_type": "code",
   "execution_count": 26,
   "id": "dd7faf97-2233-411b-8fc5-dd548f3c9d46",
   "metadata": {},
   "outputs": [],
   "source": [
    "workflow.save(f\"{base_out_pathname}/workflow\")"
   ]
  },
  {
   "cell_type": "code",
   "execution_count": 27,
   "id": "b65711a3-73d6-42bd-8ac7-f0779393e402",
   "metadata": {},
   "outputs": [],
   "source": [
    "workflow.transform(nvt.Dataset(f\"{base_in_pathname}_train\", engine='parquet')).to_parquet(\n",
    "    output_path=f\"{base_out_pathname}/train\",\n",
    "    shuffle=shuffle,\n",
    "    cats=[input_col_name],\n",
    "    labels=[label_col_name],\n",
    ")"
   ]
  },
  {
   "cell_type": "code",
   "execution_count": 28,
   "id": "04b320c0-6164-412f-93eb-e67ba803ce75",
   "metadata": {},
   "outputs": [],
   "source": [
    "workflow.transform(nvt.Dataset(f\"{base_in_pathname}_val\", engine='parquet')).to_parquet(\n",
    "    output_path=f\"{base_out_pathname}/val\",\n",
    "    shuffle=None,\n",
    "    out_files_per_proc=None,\n",
    "    cats=[input_col_name],\n",
    "    labels=[label_col_name],\n",
    ")"
   ]
  },
  {
   "cell_type": "code",
   "execution_count": 29,
   "id": "f168075f-d7ea-48cd-9a1f-87b158fb9df9",
   "metadata": {},
   "outputs": [],
   "source": [
    "workflow.transform(nvt.Dataset(f\"{base_in_pathname}_test\", engine='parquet')).to_parquet(\n",
    "    output_path=f\"{base_out_pathname}/test\",\n",
    "    shuffle=None,\n",
    "    out_files_per_proc=None,\n",
    "    cats=[input_col_name],\n",
    "    labels=[label_col_name],\n",
    ")"
   ]
  },
  {
   "cell_type": "code",
   "execution_count": null,
   "id": "ef62ab94-6a75-4bd8-9c4f-ee9c2dc9779d",
   "metadata": {},
   "outputs": [],
   "source": []
  },
  {
   "cell_type": "code",
   "execution_count": 30,
   "id": "5b074fda-b219-4fce-8fba-9972f3dbe54c",
   "metadata": {},
   "outputs": [
    {
     "name": "stderr",
     "output_type": "stream",
     "text": [
      "/home/jcosme/miniconda3/envs/tf/lib/python3.7/site-packages/numba/cuda/compiler.py:726: NumbaPerformanceWarning: \u001b[1mGrid size (95) < 2 * SM count (96) will likely result in GPU under utilization due to low occupancy.\u001b[0m\n",
      "  warn(NumbaPerformanceWarning(msg))\n",
      "/home/jcosme/miniconda3/envs/tf/lib/python3.7/site-packages/numba/cuda/compiler.py:726: NumbaPerformanceWarning: \u001b[1mGrid size (47) < 2 * SM count (96) will likely result in GPU under utilization due to low occupancy.\u001b[0m\n",
      "  warn(NumbaPerformanceWarning(msg))\n",
      "/home/jcosme/miniconda3/envs/tf/lib/python3.7/site-packages/numba/cuda/compiler.py:726: NumbaPerformanceWarning: \u001b[1mGrid size (48) < 2 * SM count (96) will likely result in GPU under utilization due to low occupancy.\u001b[0m\n",
      "  warn(NumbaPerformanceWarning(msg))\n",
      "/home/jcosme/miniconda3/envs/tf/lib/python3.7/site-packages/numba/cuda/compiler.py:726: NumbaPerformanceWarning: \u001b[1mGrid size (46) < 2 * SM count (96) will likely result in GPU under utilization due to low occupancy.\u001b[0m\n",
      "  warn(NumbaPerformanceWarning(msg))\n",
      "/home/jcosme/miniconda3/envs/tf/lib/python3.7/site-packages/numba/cuda/compiler.py:726: NumbaPerformanceWarning: \u001b[1mGrid size (45) < 2 * SM count (96) will likely result in GPU under utilization due to low occupancy.\u001b[0m\n",
      "  warn(NumbaPerformanceWarning(msg))\n",
      "/home/jcosme/miniconda3/envs/tf/lib/python3.7/site-packages/numba/cuda/compiler.py:726: NumbaPerformanceWarning: \u001b[1mGrid size (59) < 2 * SM count (96) will likely result in GPU under utilization due to low occupancy.\u001b[0m\n",
      "  warn(NumbaPerformanceWarning(msg))\n",
      "/home/jcosme/miniconda3/envs/tf/lib/python3.7/site-packages/numba/cuda/compiler.py:726: NumbaPerformanceWarning: \u001b[1mGrid size (31) < 2 * SM count (96) will likely result in GPU under utilization due to low occupancy.\u001b[0m\n",
      "  warn(NumbaPerformanceWarning(msg))\n",
      "/home/jcosme/miniconda3/envs/tf/lib/python3.7/site-packages/numba/cuda/compiler.py:726: NumbaPerformanceWarning: \u001b[1mGrid size (62) < 2 * SM count (96) will likely result in GPU under utilization due to low occupancy.\u001b[0m\n",
      "  warn(NumbaPerformanceWarning(msg))\n",
      "/home/jcosme/miniconda3/envs/tf/lib/python3.7/site-packages/numba/cuda/compiler.py:726: NumbaPerformanceWarning: \u001b[1mGrid size (33) < 2 * SM count (96) will likely result in GPU under utilization due to low occupancy.\u001b[0m\n",
      "  warn(NumbaPerformanceWarning(msg))\n",
      "/home/jcosme/miniconda3/envs/tf/lib/python3.7/site-packages/numba/cuda/compiler.py:726: NumbaPerformanceWarning: \u001b[1mGrid size (32) < 2 * SM count (96) will likely result in GPU under utilization due to low occupancy.\u001b[0m\n",
      "  warn(NumbaPerformanceWarning(msg))\n",
      "/home/jcosme/miniconda3/envs/tf/lib/python3.7/site-packages/numba/cuda/compiler.py:726: NumbaPerformanceWarning: \u001b[1mGrid size (93) < 2 * SM count (96) will likely result in GPU under utilization due to low occupancy.\u001b[0m\n",
      "  warn(NumbaPerformanceWarning(msg))\n"
     ]
    }
   ],
   "source": [
    "client.shutdown()\n",
    "cluster.close()"
   ]
  },
  {
   "cell_type": "code",
   "execution_count": null,
   "id": "6b725f04-a33b-4ef5-902a-be09e537ddd9",
   "metadata": {},
   "outputs": [],
   "source": []
  }
 ],
 "metadata": {
  "kernelspec": {
   "display_name": "tf",
   "language": "python",
   "name": "tf"
  },
  "language_info": {
   "codemirror_mode": {
    "name": "ipython",
    "version": 3
   },
   "file_extension": ".py",
   "mimetype": "text/x-python",
   "name": "python",
   "nbconvert_exporter": "python",
   "pygments_lexer": "ipython3",
   "version": "3.7.12"
  }
 },
 "nbformat": 4,
 "nbformat_minor": 5
}
