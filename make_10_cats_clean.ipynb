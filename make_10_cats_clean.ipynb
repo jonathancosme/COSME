{
 "cells": [
  {
   "cell_type": "code",
   "execution_count": 84,
   "id": "9590cc60-b8d4-4452-a161-7dfe1df2be9d",
   "metadata": {},
   "outputs": [
    {
     "name": "stderr",
     "output_type": "stream",
     "text": [
      "2022-05-17 02:25:46,388 - distributed.preloading - INFO - Import preload module: dask_cuda.initialize\n"
     ]
    }
   ],
   "source": [
    "from global_funcs import load_program_config\n",
    "from dask.distributed import Client\n",
    "from dask_cuda import LocalCUDACluster\n",
    "import time\n",
    "\n",
    "cluster = LocalCUDACluster()\n",
    "client = Client(cluster)\n",
    "\n",
    "import dask_cudf"
   ]
  },
  {
   "cell_type": "code",
   "execution_count": 85,
   "id": "c7a35de5-7989-408a-963e-439b72fd899d",
   "metadata": {},
   "outputs": [],
   "source": [
    "configs = load_program_config()\n",
    "\n",
    "clean_fasta_filepath = configs['clean_fasta_file']\n",
    "base_col_names =  configs['base_col_names']\n",
    "fasta_sep = configs['fasta_sep']\n",
    "label_col_name = configs['label_col_name']\n",
    "label_regex = configs['label_regex']\n",
    "random_seed = configs['random_seed']\n"
   ]
  },
  {
   "cell_type": "code",
   "execution_count": 86,
   "id": "40f032ae-e09a-4736-a1a3-45459a60509f",
   "metadata": {},
   "outputs": [],
   "source": [
    "def extract_labels(df):\n",
    "    df['clean_labels'] = df[label_col_name].str.extract(label_regex).loc[:, 0]\n",
    "    return df"
   ]
  },
  {
   "cell_type": "code",
   "execution_count": 87,
   "id": "e7c4f36e-feff-4c44-bf93-93e24701d09e",
   "metadata": {},
   "outputs": [],
   "source": [
    "df = dask_cudf.read_parquet(clean_fasta_filepath)"
   ]
  },
  {
   "cell_type": "code",
   "execution_count": 88,
   "id": "60c65f96-e5dd-45e9-a9fd-73596d453f9e",
   "metadata": {},
   "outputs": [],
   "source": [
    "df['clean_labels'] = None"
   ]
  },
  {
   "cell_type": "code",
   "execution_count": 89,
   "id": "fa38e790-2bfd-4b55-aae7-49d922ce2c57",
   "metadata": {},
   "outputs": [],
   "source": [
    "df = df.map_partitions(extract_labels)"
   ]
  },
  {
   "cell_type": "code",
   "execution_count": 91,
   "id": "a8f3e72f-4ee0-4638-9a45-3fde46164e34",
   "metadata": {},
   "outputs": [],
   "source": [
    "unq_labs = df.sort_values('clean_labels')['clean_labels'].unique().compute()"
   ]
  },
  {
   "cell_type": "code",
   "execution_count": 93,
   "id": "67665c04-2dbe-4ef4-8e14-f41e1d6afbbb",
   "metadata": {},
   "outputs": [],
   "source": [
    "sub_unq_labs = unq_labs.to_frame().sample(10, random_state=random_seed)['clean_labels'].to_arrow().to_pylist()"
   ]
  },
  {
   "cell_type": "code",
   "execution_count": 94,
   "id": "34853146-36ee-43c0-b885-7b2add1c615b",
   "metadata": {},
   "outputs": [],
   "source": [
    "df = df.set_index('clean_labels', sorted=True).loc[sub_unq_labs].reset_index(drop=True)"
   ]
  },
  {
   "cell_type": "code",
   "execution_count": 97,
   "id": "6ba29864-fcbb-4665-a8e5-e3439fe86719",
   "metadata": {},
   "outputs": [],
   "source": [
    "out_name = clean_fasta_filepath + '_10_cats'"
   ]
  },
  {
   "cell_type": "code",
   "execution_count": 98,
   "id": "337572c2-d73b-42de-84bb-7ccbdc243b19",
   "metadata": {},
   "outputs": [],
   "source": [
    "_ = df.to_parquet(out_name)"
   ]
  },
  {
   "cell_type": "code",
   "execution_count": 99,
   "id": "5627dbb7-0c30-4a18-a58e-da8b543d5f65",
   "metadata": {},
   "outputs": [],
   "source": [
    "del df"
   ]
  },
  {
   "cell_type": "code",
   "execution_count": 100,
   "id": "5217a6fd-172a-4d05-9b38-3231c7971a33",
   "metadata": {},
   "outputs": [],
   "source": [
    "client.shutdown()\n",
    "client.close()"
   ]
  },
  {
   "cell_type": "code",
   "execution_count": null,
   "id": "ee531cdf-87f9-4c52-912f-c2ac6efc0f9c",
   "metadata": {},
   "outputs": [],
   "source": []
  }
 ],
 "metadata": {
  "kernelspec": {
   "display_name": "ds",
   "language": "python",
   "name": "ds"
  },
  "language_info": {
   "codemirror_mode": {
    "name": "ipython",
    "version": 3
   },
   "file_extension": ".py",
   "mimetype": "text/x-python",
   "name": "python",
   "nbconvert_exporter": "python",
   "pygments_lexer": "ipython3",
   "version": "3.9.12"
  }
 },
 "nbformat": 4,
 "nbformat_minor": 5
}
